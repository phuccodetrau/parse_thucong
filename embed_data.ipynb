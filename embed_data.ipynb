{
 "cells": [
  {
   "cell_type": "code",
   "execution_count": 2,
   "metadata": {},
   "outputs": [
    {
     "name": "stdout",
     "output_type": "stream",
     "text": [
      "Looking in indexes: https://pypi.org/simple, https://pypi.ngc.nvidia.com\n",
      "Collecting llama-index-vector-stores-weaviate\n",
      "  Downloading llama_index_vector_stores_weaviate-1.0.2-py3-none-any.whl.metadata (717 bytes)\n",
      "Collecting llama-index\n",
      "  Downloading llama_index-0.10.59-py3-none-any.whl.metadata (11 kB)\n",
      "Collecting llama-index-embeddings-huggingface\n",
      "  Downloading llama_index_embeddings_huggingface-0.2.2-py3-none-any.whl.metadata (769 bytes)\n",
      "Collecting llama-index-core<0.11.0,>=0.10.1 (from llama-index-vector-stores-weaviate)\n",
      "  Downloading llama_index_core-0.10.60-py3-none-any.whl.metadata (2.4 kB)\n",
      "Collecting weaviate-client<5.0.0,>=4.5.7 (from llama-index-vector-stores-weaviate)\n",
      "  Downloading weaviate_client-4.7.1-py3-none-any.whl.metadata (3.3 kB)\n",
      "Collecting llama-index-agent-openai<0.3.0,>=0.1.4 (from llama-index)\n",
      "  Downloading llama_index_agent_openai-0.2.9-py3-none-any.whl.metadata (729 bytes)\n",
      "Collecting llama-index-cli<0.2.0,>=0.1.2 (from llama-index)\n",
      "  Downloading llama_index_cli-0.1.13-py3-none-any.whl.metadata (1.5 kB)\n",
      "Collecting llama-index-core<0.11.0,>=0.10.1 (from llama-index-vector-stores-weaviate)\n",
      "  Downloading llama_index_core-0.10.59-py3-none-any.whl.metadata (2.4 kB)\n",
      "Collecting llama-index-embeddings-openai<0.2.0,>=0.1.5 (from llama-index)\n",
      "  Downloading llama_index_embeddings_openai-0.1.11-py3-none-any.whl.metadata (655 bytes)\n",
      "Collecting llama-index-indices-managed-llama-cloud>=0.2.0 (from llama-index)\n",
      "  Downloading llama_index_indices_managed_llama_cloud-0.2.7-py3-none-any.whl.metadata (3.8 kB)\n",
      "Collecting llama-index-legacy<0.10.0,>=0.9.48 (from llama-index)\n",
      "  Downloading llama_index_legacy-0.9.48-py3-none-any.whl.metadata (8.5 kB)\n",
      "Collecting llama-index-llms-openai<0.2.0,>=0.1.27 (from llama-index)\n",
      "  Downloading llama_index_llms_openai-0.1.27-py3-none-any.whl.metadata (610 bytes)\n",
      "Collecting llama-index-multi-modal-llms-openai<0.2.0,>=0.1.3 (from llama-index)\n",
      "  Downloading llama_index_multi_modal_llms_openai-0.1.8-py3-none-any.whl.metadata (728 bytes)\n",
      "Collecting llama-index-program-openai<0.2.0,>=0.1.3 (from llama-index)\n",
      "  Downloading llama_index_program_openai-0.1.7-py3-none-any.whl.metadata (760 bytes)\n",
      "Collecting llama-index-question-gen-openai<0.2.0,>=0.1.2 (from llama-index)\n",
      "  Downloading llama_index_question_gen_openai-0.1.3-py3-none-any.whl.metadata (785 bytes)\n",
      "Collecting llama-index-readers-file<0.2.0,>=0.1.4 (from llama-index)\n",
      "  Downloading llama_index_readers_file-0.1.32-py3-none-any.whl.metadata (5.4 kB)\n",
      "Collecting llama-index-readers-llama-parse>=0.1.2 (from llama-index)\n",
      "  Downloading llama_index_readers_llama_parse-0.1.6-py3-none-any.whl.metadata (3.6 kB)\n",
      "Collecting PyYAML>=6.0.1 (from llama-index-core<0.11.0,>=0.10.1->llama-index-vector-stores-weaviate)\n",
      "  Downloading PyYAML-6.0.1-cp311-cp311-manylinux_2_17_x86_64.manylinux2014_x86_64.whl.metadata (2.1 kB)\n",
      "Collecting SQLAlchemy>=1.4.49 (from SQLAlchemy[asyncio]>=1.4.49->llama-index-core<0.11.0,>=0.10.1->llama-index-vector-stores-weaviate)\n",
      "  Downloading SQLAlchemy-2.0.31-cp311-cp311-manylinux_2_17_x86_64.manylinux2014_x86_64.whl.metadata (9.6 kB)\n",
      "Collecting aiohttp<4.0.0,>=3.8.6 (from llama-index-core<0.11.0,>=0.10.1->llama-index-vector-stores-weaviate)\n",
      "  Downloading aiohttp-3.10.1-cp311-cp311-manylinux_2_17_x86_64.manylinux2014_x86_64.whl.metadata (7.5 kB)\n",
      "Collecting dataclasses-json (from llama-index-core<0.11.0,>=0.10.1->llama-index-vector-stores-weaviate)\n",
      "  Downloading dataclasses_json-0.6.7-py3-none-any.whl.metadata (25 kB)\n",
      "Collecting deprecated>=1.2.9.3 (from llama-index-core<0.11.0,>=0.10.1->llama-index-vector-stores-weaviate)\n",
      "  Downloading Deprecated-1.2.14-py2.py3-none-any.whl.metadata (5.4 kB)\n",
      "Collecting dirtyjson<2.0.0,>=1.0.8 (from llama-index-core<0.11.0,>=0.10.1->llama-index-vector-stores-weaviate)\n",
      "  Downloading dirtyjson-1.0.8-py3-none-any.whl.metadata (11 kB)\n",
      "Collecting fsspec>=2023.5.0 (from llama-index-core<0.11.0,>=0.10.1->llama-index-vector-stores-weaviate)\n",
      "  Downloading fsspec-2024.6.1-py3-none-any.whl.metadata (11 kB)\n",
      "Collecting httpx (from llama-index-core<0.11.0,>=0.10.1->llama-index-vector-stores-weaviate)\n",
      "  Downloading httpx-0.27.0-py3-none-any.whl.metadata (7.2 kB)\n",
      "Requirement already satisfied: nest-asyncio<2.0.0,>=1.5.8 in /mnt/annd/.conda/phucnh/lib/python3.11/site-packages (from llama-index-core<0.11.0,>=0.10.1->llama-index-vector-stores-weaviate) (1.6.0)\n",
      "Collecting networkx>=3.0 (from llama-index-core<0.11.0,>=0.10.1->llama-index-vector-stores-weaviate)\n",
      "  Downloading networkx-3.3-py3-none-any.whl.metadata (5.1 kB)\n",
      "Collecting nltk<4.0.0,>=3.8.1 (from llama-index-core<0.11.0,>=0.10.1->llama-index-vector-stores-weaviate)\n",
      "  Downloading nltk-3.8.1-py3-none-any.whl.metadata (2.8 kB)\n",
      "Collecting numpy<2.0.0 (from llama-index-core<0.11.0,>=0.10.1->llama-index-vector-stores-weaviate)\n",
      "  Downloading numpy-1.26.4-cp311-cp311-manylinux_2_17_x86_64.manylinux2014_x86_64.whl.metadata (61 kB)\n",
      "\u001b[2K     \u001b[90m━━━━━━━━━━━━━━━━━━━━━━━━━━━━━━━━━━━━━━━━\u001b[0m \u001b[32m61.0/61.0 kB\u001b[0m \u001b[31m1.7 MB/s\u001b[0m eta \u001b[36m0:00:00\u001b[0m\n",
      "\u001b[?25hCollecting openai>=1.1.0 (from llama-index-core<0.11.0,>=0.10.1->llama-index-vector-stores-weaviate)\n",
      "  Downloading openai-1.38.0-py3-none-any.whl.metadata (22 kB)\n",
      "Collecting pandas (from llama-index-core<0.11.0,>=0.10.1->llama-index-vector-stores-weaviate)\n",
      "  Downloading pandas-2.2.2-cp311-cp311-manylinux_2_17_x86_64.manylinux2014_x86_64.whl.metadata (19 kB)\n",
      "Collecting pillow>=9.0.0 (from llama-index-core<0.11.0,>=0.10.1->llama-index-vector-stores-weaviate)\n",
      "  Downloading pillow-10.4.0-cp311-cp311-manylinux_2_28_x86_64.whl.metadata (9.2 kB)\n",
      "Requirement already satisfied: requests>=2.31.0 in /mnt/annd/.conda/phucnh/lib/python3.11/site-packages (from llama-index-core<0.11.0,>=0.10.1->llama-index-vector-stores-weaviate) (2.32.3)\n",
      "Collecting tenacity!=8.4.0,<9.0.0,>=8.2.0 (from llama-index-core<0.11.0,>=0.10.1->llama-index-vector-stores-weaviate)\n",
      "  Downloading tenacity-8.5.0-py3-none-any.whl.metadata (1.2 kB)\n",
      "Collecting tiktoken>=0.3.3 (from llama-index-core<0.11.0,>=0.10.1->llama-index-vector-stores-weaviate)\n",
      "  Downloading tiktoken-0.7.0-cp311-cp311-manylinux_2_17_x86_64.manylinux2014_x86_64.whl.metadata (6.6 kB)\n",
      "Collecting tqdm<5.0.0,>=4.66.1 (from llama-index-core<0.11.0,>=0.10.1->llama-index-vector-stores-weaviate)\n",
      "  Downloading tqdm-4.66.5-py3-none-any.whl.metadata (57 kB)\n",
      "\u001b[2K     \u001b[90m━━━━━━━━━━━━━━━━━━━━━━━━━━━━━━━━━━━━━━━━\u001b[0m \u001b[32m57.6/57.6 kB\u001b[0m \u001b[31m9.3 MB/s\u001b[0m eta \u001b[36m0:00:00\u001b[0m\n",
      "\u001b[?25hRequirement already satisfied: typing-extensions>=4.5.0 in /mnt/annd/.conda/phucnh/lib/python3.11/site-packages (from llama-index-core<0.11.0,>=0.10.1->llama-index-vector-stores-weaviate) (4.12.2)\n",
      "Collecting typing-inspect>=0.8.0 (from llama-index-core<0.11.0,>=0.10.1->llama-index-vector-stores-weaviate)\n",
      "  Downloading typing_inspect-0.9.0-py3-none-any.whl.metadata (1.5 kB)\n",
      "Collecting wrapt (from llama-index-core<0.11.0,>=0.10.1->llama-index-vector-stores-weaviate)\n",
      "  Downloading wrapt-1.16.0-cp311-cp311-manylinux_2_5_x86_64.manylinux1_x86_64.manylinux_2_17_x86_64.manylinux2014_x86_64.whl.metadata (6.6 kB)\n",
      "Collecting huggingface-hub>=0.19.0 (from huggingface-hub[inference]>=0.19.0->llama-index-embeddings-huggingface)\n",
      "  Downloading huggingface_hub-0.24.5-py3-none-any.whl.metadata (13 kB)\n",
      "Collecting sentence-transformers>=2.6.1 (from llama-index-embeddings-huggingface)\n",
      "  Downloading sentence_transformers-3.0.1-py3-none-any.whl.metadata (10 kB)\n",
      "Collecting filelock (from huggingface-hub>=0.19.0->huggingface-hub[inference]>=0.19.0->llama-index-embeddings-huggingface)\n",
      "  Downloading filelock-3.15.4-py3-none-any.whl.metadata (2.9 kB)\n",
      "Requirement already satisfied: packaging>=20.9 in /mnt/annd/.conda/phucnh/lib/python3.11/site-packages (from huggingface-hub>=0.19.0->huggingface-hub[inference]>=0.19.0->llama-index-embeddings-huggingface) (24.1)\n",
      "Collecting minijinja>=1.0 (from huggingface-hub[inference]>=0.19.0->llama-index-embeddings-huggingface)\n",
      "  Downloading minijinja-2.0.1-cp38-abi3-manylinux_2_17_x86_64.manylinux2014_x86_64.whl.metadata (8.8 kB)\n",
      "Collecting llama-cloud>=0.0.11 (from llama-index-indices-managed-llama-cloud>=0.2.0->llama-index)\n",
      "  Downloading llama_cloud-0.0.11-py3-none-any.whl.metadata (751 bytes)\n",
      "Requirement already satisfied: beautifulsoup4<5.0.0,>=4.12.3 in /mnt/annd/.conda/phucnh/lib/python3.11/site-packages (from llama-index-readers-file<0.2.0,>=0.1.4->llama-index) (4.12.3)\n",
      "Collecting pypdf<5.0.0,>=4.0.1 (from llama-index-readers-file<0.2.0,>=0.1.4->llama-index)\n",
      "  Downloading pypdf-4.3.1-py3-none-any.whl.metadata (7.4 kB)\n",
      "Collecting striprtf<0.0.27,>=0.0.26 (from llama-index-readers-file<0.2.0,>=0.1.4->llama-index)\n",
      "  Downloading striprtf-0.0.26-py3-none-any.whl.metadata (2.1 kB)\n",
      "Collecting llama-parse>=0.4.0 (from llama-index-readers-llama-parse>=0.1.2->llama-index)\n",
      "  Downloading llama_parse-0.4.9-py3-none-any.whl.metadata (4.4 kB)\n",
      "Collecting transformers<5.0.0,>=4.34.0 (from sentence-transformers>=2.6.1->llama-index-embeddings-huggingface)\n",
      "  Downloading transformers-4.43.4-py3-none-any.whl.metadata (43 kB)\n",
      "\u001b[2K     \u001b[90m━━━━━━━━━━━━━━━━━━━━━━━━━━━━━━━━━━━━━━━━\u001b[0m \u001b[32m43.7/43.7 kB\u001b[0m \u001b[31m9.9 MB/s\u001b[0m eta \u001b[36m0:00:00\u001b[0m\n",
      "\u001b[?25hCollecting torch>=1.11.0 (from sentence-transformers>=2.6.1->llama-index-embeddings-huggingface)\n",
      "  Downloading torch-2.4.0-cp311-cp311-manylinux1_x86_64.whl.metadata (26 kB)\n",
      "Collecting scikit-learn (from sentence-transformers>=2.6.1->llama-index-embeddings-huggingface)\n",
      "  Downloading scikit_learn-1.5.1-cp311-cp311-manylinux_2_17_x86_64.manylinux2014_x86_64.whl.metadata (12 kB)\n",
      "Collecting scipy (from sentence-transformers>=2.6.1->llama-index-embeddings-huggingface)\n",
      "  Downloading scipy-1.14.0-cp311-cp311-manylinux_2_17_x86_64.manylinux2014_x86_64.whl.metadata (60 kB)\n",
      "\u001b[2K     \u001b[90m━━━━━━━━━━━━━━━━━━━━━━━━━━━━━━━━━━━━━━━━\u001b[0m \u001b[32m60.8/60.8 kB\u001b[0m \u001b[31m9.2 MB/s\u001b[0m eta \u001b[36m0:00:00\u001b[0m\n",
      "\u001b[?25hCollecting validators==0.33.0 (from weaviate-client<5.0.0,>=4.5.7->llama-index-vector-stores-weaviate)\n",
      "  Downloading validators-0.33.0-py3-none-any.whl.metadata (3.8 kB)\n",
      "Collecting authlib<2.0.0,>=1.2.1 (from weaviate-client<5.0.0,>=4.5.7->llama-index-vector-stores-weaviate)\n",
      "  Downloading Authlib-1.3.1-py2.py3-none-any.whl.metadata (3.8 kB)\n",
      "Collecting pydantic<3.0.0,>=2.5.0 (from weaviate-client<5.0.0,>=4.5.7->llama-index-vector-stores-weaviate)\n",
      "  Downloading pydantic-2.8.2-py3-none-any.whl.metadata (125 kB)\n",
      "\u001b[2K     \u001b[90m━━━━━━━━━━━━━━━━━━━━━━━━━━━━━━━━━━━━━━━\u001b[0m \u001b[32m125.2/125.2 kB\u001b[0m \u001b[31m8.5 MB/s\u001b[0m eta \u001b[36m0:00:00\u001b[0m\n",
      "\u001b[?25hCollecting grpcio<2.0.0,>=1.57.0 (from weaviate-client<5.0.0,>=4.5.7->llama-index-vector-stores-weaviate)\n",
      "  Downloading grpcio-1.65.4-cp311-cp311-manylinux_2_17_x86_64.manylinux2014_x86_64.whl.metadata (3.3 kB)\n",
      "Collecting grpcio-tools<2.0.0,>=1.57.0 (from weaviate-client<5.0.0,>=4.5.7->llama-index-vector-stores-weaviate)\n",
      "  Downloading grpcio_tools-1.65.4-cp311-cp311-manylinux_2_17_x86_64.manylinux2014_x86_64.whl.metadata (5.3 kB)\n",
      "Collecting grpcio-health-checking<2.0.0,>=1.57.0 (from weaviate-client<5.0.0,>=4.5.7->llama-index-vector-stores-weaviate)\n",
      "  Downloading grpcio_health_checking-1.65.4-py3-none-any.whl.metadata (1.1 kB)\n",
      "Collecting aiohappyeyeballs>=2.3.0 (from aiohttp<4.0.0,>=3.8.6->llama-index-core<0.11.0,>=0.10.1->llama-index-vector-stores-weaviate)\n",
      "  Downloading aiohappyeyeballs-2.3.4-py3-none-any.whl.metadata (5.6 kB)\n",
      "Collecting aiosignal>=1.1.2 (from aiohttp<4.0.0,>=3.8.6->llama-index-core<0.11.0,>=0.10.1->llama-index-vector-stores-weaviate)\n",
      "  Downloading aiosignal-1.3.1-py3-none-any.whl.metadata (4.0 kB)\n",
      "Collecting attrs>=17.3.0 (from aiohttp<4.0.0,>=3.8.6->llama-index-core<0.11.0,>=0.10.1->llama-index-vector-stores-weaviate)\n",
      "  Downloading attrs-24.1.0-py3-none-any.whl.metadata (14 kB)\n",
      "Collecting frozenlist>=1.1.1 (from aiohttp<4.0.0,>=3.8.6->llama-index-core<0.11.0,>=0.10.1->llama-index-vector-stores-weaviate)\n",
      "  Downloading frozenlist-1.4.1-cp311-cp311-manylinux_2_5_x86_64.manylinux1_x86_64.manylinux_2_17_x86_64.manylinux2014_x86_64.whl.metadata (12 kB)\n",
      "Collecting multidict<7.0,>=4.5 (from aiohttp<4.0.0,>=3.8.6->llama-index-core<0.11.0,>=0.10.1->llama-index-vector-stores-weaviate)\n",
      "  Downloading multidict-6.0.5-cp311-cp311-manylinux_2_17_x86_64.manylinux2014_x86_64.whl.metadata (4.2 kB)\n",
      "Collecting yarl<2.0,>=1.0 (from aiohttp<4.0.0,>=3.8.6->llama-index-core<0.11.0,>=0.10.1->llama-index-vector-stores-weaviate)\n",
      "  Downloading yarl-1.9.4-cp311-cp311-manylinux_2_17_x86_64.manylinux2014_x86_64.whl.metadata (31 kB)\n",
      "Collecting cryptography (from authlib<2.0.0,>=1.2.1->weaviate-client<5.0.0,>=4.5.7->llama-index-vector-stores-weaviate)\n",
      "  Downloading cryptography-43.0.0-cp39-abi3-manylinux_2_28_x86_64.whl.metadata (5.4 kB)\n",
      "Requirement already satisfied: soupsieve>1.2 in /mnt/annd/.conda/phucnh/lib/python3.11/site-packages (from beautifulsoup4<5.0.0,>=4.12.3->llama-index-readers-file<0.2.0,>=0.1.4->llama-index) (2.5)\n",
      "Collecting protobuf<6.0dev,>=5.26.1 (from grpcio-health-checking<2.0.0,>=1.57.0->weaviate-client<5.0.0,>=4.5.7->llama-index-vector-stores-weaviate)\n",
      "  Downloading protobuf-5.27.3-cp38-abi3-manylinux2014_x86_64.whl.metadata (592 bytes)\n",
      "Requirement already satisfied: setuptools in /mnt/annd/.conda/phucnh/lib/python3.11/site-packages (from grpcio-tools<2.0.0,>=1.57.0->weaviate-client<5.0.0,>=4.5.7->llama-index-vector-stores-weaviate) (69.5.1)\n",
      "Collecting anyio (from httpx->llama-index-core<0.11.0,>=0.10.1->llama-index-vector-stores-weaviate)\n",
      "  Downloading anyio-4.4.0-py3-none-any.whl.metadata (4.6 kB)\n",
      "Requirement already satisfied: certifi in /mnt/annd/.conda/phucnh/lib/python3.11/site-packages (from httpx->llama-index-core<0.11.0,>=0.10.1->llama-index-vector-stores-weaviate) (2024.7.4)\n",
      "Collecting httpcore==1.* (from httpx->llama-index-core<0.11.0,>=0.10.1->llama-index-vector-stores-weaviate)\n",
      "  Downloading httpcore-1.0.5-py3-none-any.whl.metadata (20 kB)\n",
      "Requirement already satisfied: idna in /mnt/annd/.conda/phucnh/lib/python3.11/site-packages (from httpx->llama-index-core<0.11.0,>=0.10.1->llama-index-vector-stores-weaviate) (3.7)\n",
      "Collecting sniffio (from httpx->llama-index-core<0.11.0,>=0.10.1->llama-index-vector-stores-weaviate)\n",
      "  Downloading sniffio-1.3.1-py3-none-any.whl.metadata (3.9 kB)\n",
      "Collecting h11<0.15,>=0.13 (from httpcore==1.*->httpx->llama-index-core<0.11.0,>=0.10.1->llama-index-vector-stores-weaviate)\n",
      "  Downloading h11-0.14.0-py3-none-any.whl.metadata (8.2 kB)\n",
      "Collecting click (from nltk<4.0.0,>=3.8.1->llama-index-core<0.11.0,>=0.10.1->llama-index-vector-stores-weaviate)\n",
      "  Downloading click-8.1.7-py3-none-any.whl.metadata (3.0 kB)\n",
      "Collecting joblib (from nltk<4.0.0,>=3.8.1->llama-index-core<0.11.0,>=0.10.1->llama-index-vector-stores-weaviate)\n",
      "  Downloading joblib-1.4.2-py3-none-any.whl.metadata (5.4 kB)\n",
      "Collecting regex>=2021.8.3 (from nltk<4.0.0,>=3.8.1->llama-index-core<0.11.0,>=0.10.1->llama-index-vector-stores-weaviate)\n",
      "  Downloading regex-2024.7.24-cp311-cp311-manylinux_2_17_x86_64.manylinux2014_x86_64.whl.metadata (40 kB)\n",
      "\u001b[2K     \u001b[90m━━━━━━━━━━━━━━━━━━━━━━━━━━━━━━━━━━━━━━━━\u001b[0m \u001b[32m40.5/40.5 kB\u001b[0m \u001b[31m28.3 MB/s\u001b[0m eta \u001b[36m0:00:00\u001b[0m\n",
      "\u001b[?25hCollecting distro<2,>=1.7.0 (from openai>=1.1.0->llama-index-core<0.11.0,>=0.10.1->llama-index-vector-stores-weaviate)\n",
      "  Downloading distro-1.9.0-py3-none-any.whl.metadata (6.8 kB)\n",
      "Collecting annotated-types>=0.4.0 (from pydantic<3.0.0,>=2.5.0->weaviate-client<5.0.0,>=4.5.7->llama-index-vector-stores-weaviate)\n",
      "  Downloading annotated_types-0.7.0-py3-none-any.whl.metadata (15 kB)\n",
      "Collecting pydantic-core==2.20.1 (from pydantic<3.0.0,>=2.5.0->weaviate-client<5.0.0,>=4.5.7->llama-index-vector-stores-weaviate)\n",
      "  Downloading pydantic_core-2.20.1-cp311-cp311-manylinux_2_17_x86_64.manylinux2014_x86_64.whl.metadata (6.6 kB)\n",
      "Requirement already satisfied: charset-normalizer<4,>=2 in /mnt/annd/.conda/phucnh/lib/python3.11/site-packages (from requests>=2.31.0->llama-index-core<0.11.0,>=0.10.1->llama-index-vector-stores-weaviate) (3.3.2)\n",
      "Requirement already satisfied: urllib3<3,>=1.21.1 in /mnt/annd/.conda/phucnh/lib/python3.11/site-packages (from requests>=2.31.0->llama-index-core<0.11.0,>=0.10.1->llama-index-vector-stores-weaviate) (2.2.2)\n",
      "Collecting greenlet!=0.4.17 (from SQLAlchemy>=1.4.49->SQLAlchemy[asyncio]>=1.4.49->llama-index-core<0.11.0,>=0.10.1->llama-index-vector-stores-weaviate)\n",
      "  Downloading greenlet-3.0.3-cp311-cp311-manylinux_2_24_x86_64.manylinux_2_28_x86_64.whl.metadata (3.8 kB)\n",
      "Collecting sympy (from torch>=1.11.0->sentence-transformers>=2.6.1->llama-index-embeddings-huggingface)\n",
      "  Downloading sympy-1.13.1-py3-none-any.whl.metadata (12 kB)\n",
      "Collecting jinja2 (from torch>=1.11.0->sentence-transformers>=2.6.1->llama-index-embeddings-huggingface)\n",
      "  Downloading jinja2-3.1.4-py3-none-any.whl.metadata (2.6 kB)\n",
      "Collecting nvidia-cuda-nvrtc-cu12==12.1.105 (from torch>=1.11.0->sentence-transformers>=2.6.1->llama-index-embeddings-huggingface)\n",
      "  Downloading nvidia_cuda_nvrtc_cu12-12.1.105-py3-none-manylinux1_x86_64.whl.metadata (1.5 kB)\n",
      "Collecting nvidia-cuda-runtime-cu12==12.1.105 (from torch>=1.11.0->sentence-transformers>=2.6.1->llama-index-embeddings-huggingface)\n",
      "  Downloading nvidia_cuda_runtime_cu12-12.1.105-py3-none-manylinux1_x86_64.whl.metadata (1.5 kB)\n",
      "Collecting nvidia-cuda-cupti-cu12==12.1.105 (from torch>=1.11.0->sentence-transformers>=2.6.1->llama-index-embeddings-huggingface)\n",
      "  Downloading nvidia_cuda_cupti_cu12-12.1.105-py3-none-manylinux1_x86_64.whl.metadata (1.6 kB)\n",
      "Collecting nvidia-cudnn-cu12==9.1.0.70 (from torch>=1.11.0->sentence-transformers>=2.6.1->llama-index-embeddings-huggingface)\n",
      "  Downloading nvidia_cudnn_cu12-9.1.0.70-py3-none-manylinux2014_x86_64.whl.metadata (1.6 kB)\n",
      "Collecting nvidia-cublas-cu12==12.1.3.1 (from torch>=1.11.0->sentence-transformers>=2.6.1->llama-index-embeddings-huggingface)\n",
      "  Downloading nvidia_cublas_cu12-12.1.3.1-py3-none-manylinux1_x86_64.whl.metadata (1.5 kB)\n",
      "Collecting nvidia-cufft-cu12==11.0.2.54 (from torch>=1.11.0->sentence-transformers>=2.6.1->llama-index-embeddings-huggingface)\n",
      "  Downloading nvidia_cufft_cu12-11.0.2.54-py3-none-manylinux1_x86_64.whl.metadata (1.5 kB)\n",
      "Collecting nvidia-curand-cu12==10.3.2.106 (from torch>=1.11.0->sentence-transformers>=2.6.1->llama-index-embeddings-huggingface)\n",
      "  Downloading nvidia_curand_cu12-10.3.2.106-py3-none-manylinux1_x86_64.whl.metadata (1.5 kB)\n",
      "Collecting nvidia-cusolver-cu12==11.4.5.107 (from torch>=1.11.0->sentence-transformers>=2.6.1->llama-index-embeddings-huggingface)\n",
      "  Downloading nvidia_cusolver_cu12-11.4.5.107-py3-none-manylinux1_x86_64.whl.metadata (1.6 kB)\n",
      "Collecting nvidia-cusparse-cu12==12.1.0.106 (from torch>=1.11.0->sentence-transformers>=2.6.1->llama-index-embeddings-huggingface)\n",
      "  Downloading nvidia_cusparse_cu12-12.1.0.106-py3-none-manylinux1_x86_64.whl.metadata (1.6 kB)\n",
      "Collecting nvidia-nccl-cu12==2.20.5 (from torch>=1.11.0->sentence-transformers>=2.6.1->llama-index-embeddings-huggingface)\n",
      "  Downloading nvidia_nccl_cu12-2.20.5-py3-none-manylinux2014_x86_64.whl.metadata (1.8 kB)\n",
      "Collecting nvidia-nvtx-cu12==12.1.105 (from torch>=1.11.0->sentence-transformers>=2.6.1->llama-index-embeddings-huggingface)\n",
      "  Downloading nvidia_nvtx_cu12-12.1.105-py3-none-manylinux1_x86_64.whl.metadata (1.7 kB)\n",
      "Collecting triton==3.0.0 (from torch>=1.11.0->sentence-transformers>=2.6.1->llama-index-embeddings-huggingface)\n",
      "  Downloading triton-3.0.0-1-cp311-cp311-manylinux2014_x86_64.manylinux_2_17_x86_64.whl.metadata (1.3 kB)\n",
      "Collecting nvidia-nvjitlink-cu12 (from nvidia-cusolver-cu12==11.4.5.107->torch>=1.11.0->sentence-transformers>=2.6.1->llama-index-embeddings-huggingface)\n",
      "  Downloading nvidia_nvjitlink_cu12-12.6.20-py3-none-manylinux2014_x86_64.whl.metadata (1.5 kB)\n",
      "Collecting safetensors>=0.4.1 (from transformers<5.0.0,>=4.34.0->sentence-transformers>=2.6.1->llama-index-embeddings-huggingface)\n",
      "  Downloading safetensors-0.4.4-cp311-cp311-manylinux_2_17_x86_64.manylinux2014_x86_64.whl.metadata (3.8 kB)\n",
      "Collecting tokenizers<0.20,>=0.19 (from transformers<5.0.0,>=4.34.0->sentence-transformers>=2.6.1->llama-index-embeddings-huggingface)\n",
      "  Downloading tokenizers-0.19.1-cp311-cp311-manylinux_2_17_x86_64.manylinux2014_x86_64.whl.metadata (6.7 kB)\n",
      "Collecting mypy-extensions>=0.3.0 (from typing-inspect>=0.8.0->llama-index-core<0.11.0,>=0.10.1->llama-index-vector-stores-weaviate)\n",
      "  Downloading mypy_extensions-1.0.0-py3-none-any.whl.metadata (1.1 kB)\n",
      "Collecting marshmallow<4.0.0,>=3.18.0 (from dataclasses-json->llama-index-core<0.11.0,>=0.10.1->llama-index-vector-stores-weaviate)\n",
      "  Downloading marshmallow-3.21.3-py3-none-any.whl.metadata (7.1 kB)\n",
      "Requirement already satisfied: python-dateutil>=2.8.2 in /mnt/annd/.conda/phucnh/lib/python3.11/site-packages (from pandas->llama-index-core<0.11.0,>=0.10.1->llama-index-vector-stores-weaviate) (2.9.0)\n",
      "Collecting pytz>=2020.1 (from pandas->llama-index-core<0.11.0,>=0.10.1->llama-index-vector-stores-weaviate)\n",
      "  Downloading pytz-2024.1-py2.py3-none-any.whl.metadata (22 kB)\n",
      "Collecting tzdata>=2022.7 (from pandas->llama-index-core<0.11.0,>=0.10.1->llama-index-vector-stores-weaviate)\n",
      "  Downloading tzdata-2024.1-py2.py3-none-any.whl.metadata (1.4 kB)\n",
      "Collecting threadpoolctl>=3.1.0 (from scikit-learn->sentence-transformers>=2.6.1->llama-index-embeddings-huggingface)\n",
      "  Downloading threadpoolctl-3.5.0-py3-none-any.whl.metadata (13 kB)\n",
      "Requirement already satisfied: six>=1.5 in /mnt/annd/.conda/phucnh/lib/python3.11/site-packages (from python-dateutil>=2.8.2->pandas->llama-index-core<0.11.0,>=0.10.1->llama-index-vector-stores-weaviate) (1.16.0)\n",
      "Collecting cffi>=1.12 (from cryptography->authlib<2.0.0,>=1.2.1->weaviate-client<5.0.0,>=4.5.7->llama-index-vector-stores-weaviate)\n",
      "  Downloading cffi-1.16.0-cp311-cp311-manylinux_2_17_x86_64.manylinux2014_x86_64.whl.metadata (1.5 kB)\n",
      "Collecting MarkupSafe>=2.0 (from jinja2->torch>=1.11.0->sentence-transformers>=2.6.1->llama-index-embeddings-huggingface)\n",
      "  Downloading MarkupSafe-2.1.5-cp311-cp311-manylinux_2_17_x86_64.manylinux2014_x86_64.whl.metadata (3.0 kB)\n",
      "Collecting mpmath<1.4,>=1.1.0 (from sympy->torch>=1.11.0->sentence-transformers>=2.6.1->llama-index-embeddings-huggingface)\n",
      "  Downloading mpmath-1.3.0-py3-none-any.whl.metadata (8.6 kB)\n",
      "Collecting pycparser (from cffi>=1.12->cryptography->authlib<2.0.0,>=1.2.1->weaviate-client<5.0.0,>=4.5.7->llama-index-vector-stores-weaviate)\n",
      "  Downloading pycparser-2.22-py3-none-any.whl.metadata (943 bytes)\n",
      "Downloading llama_index_vector_stores_weaviate-1.0.2-py3-none-any.whl (6.8 kB)\n",
      "Downloading llama_index-0.10.59-py3-none-any.whl (6.8 kB)\n",
      "Downloading llama_index_core-0.10.59-py3-none-any.whl (15.5 MB)\n",
      "\u001b[2K   \u001b[90m━━━━━━━━━━━━━━━━━━━━━━━━━━━━━━━━━━━━━━━━\u001b[0m \u001b[32m15.5/15.5 MB\u001b[0m \u001b[31m1.2 MB/s\u001b[0m eta \u001b[36m0:00:00\u001b[0m00:01\u001b[0m00:01\u001b[0m\n",
      "\u001b[?25hDownloading llama_index_embeddings_huggingface-0.2.2-py3-none-any.whl (7.2 kB)\n",
      "Downloading huggingface_hub-0.24.5-py3-none-any.whl (417 kB)\n",
      "\u001b[2K   \u001b[90m━━━━━━━━━━━━━━━━━━━━━━━━━━━━━━━━━━━━━━━━\u001b[0m \u001b[32m417.5/417.5 kB\u001b[0m \u001b[31m1.5 MB/s\u001b[0m eta \u001b[36m0:00:00\u001b[0ma \u001b[36m0:00:01\u001b[0m\n",
      "\u001b[?25hDownloading llama_index_agent_openai-0.2.9-py3-none-any.whl (13 kB)\n",
      "Downloading llama_index_cli-0.1.13-py3-none-any.whl (27 kB)\n",
      "Downloading llama_index_embeddings_openai-0.1.11-py3-none-any.whl (6.3 kB)\n",
      "Downloading llama_index_indices_managed_llama_cloud-0.2.7-py3-none-any.whl (9.5 kB)\n",
      "Downloading llama_index_legacy-0.9.48-py3-none-any.whl (2.0 MB)\n",
      "\u001b[2K   \u001b[90m━━━━━━━━━━━━━━━━━━━━━━━━━━━━━━━━━━━━━━━━\u001b[0m \u001b[32m2.0/2.0 MB\u001b[0m \u001b[31m1.3 MB/s\u001b[0m eta \u001b[36m0:00:00\u001b[0m00:01\u001b[0m00:01\u001b[0m\n",
      "\u001b[?25hDownloading llama_index_llms_openai-0.1.27-py3-none-any.whl (11 kB)\n",
      "Downloading llama_index_multi_modal_llms_openai-0.1.8-py3-none-any.whl (5.9 kB)\n",
      "Downloading llama_index_program_openai-0.1.7-py3-none-any.whl (5.3 kB)\n",
      "Downloading llama_index_question_gen_openai-0.1.3-py3-none-any.whl (2.9 kB)\n",
      "Downloading llama_index_readers_file-0.1.32-py3-none-any.whl (38 kB)\n",
      "Downloading llama_index_readers_llama_parse-0.1.6-py3-none-any.whl (2.5 kB)\n",
      "Downloading sentence_transformers-3.0.1-py3-none-any.whl (227 kB)\n",
      "\u001b[2K   \u001b[90m━━━━━━━━━━━━━━━━━━━━━━━━━━━━━━━━━━━━━━━━\u001b[0m \u001b[32m227.1/227.1 kB\u001b[0m \u001b[31m2.8 MB/s\u001b[0m eta \u001b[36m0:00:00\u001b[0ma \u001b[36m0:00:01\u001b[0m\n",
      "\u001b[?25hDownloading weaviate_client-4.7.1-py3-none-any.whl (368 kB)\n",
      "\u001b[2K   \u001b[90m━━━━━━━━━━━━━━━━━━━━━━━━━━━━━━━━━━━━━━━━\u001b[0m \u001b[32m368.3/368.3 kB\u001b[0m \u001b[31m2.2 MB/s\u001b[0m eta \u001b[36m0:00:00\u001b[0ma \u001b[36m0:00:01\u001b[0m\n",
      "\u001b[?25hDownloading validators-0.33.0-py3-none-any.whl (43 kB)\n",
      "\u001b[2K   \u001b[90m━━━━━━━━━━━━━━━━━━━━━━━━━━━━━━━━━━━━━━━━\u001b[0m \u001b[32m43.3/43.3 kB\u001b[0m \u001b[31m2.2 MB/s\u001b[0m eta \u001b[36m0:00:00\u001b[0m\n",
      "\u001b[?25hDownloading aiohttp-3.10.1-cp311-cp311-manylinux_2_17_x86_64.manylinux2014_x86_64.whl (1.3 MB)\n",
      "\u001b[2K   \u001b[90m━━━━━━━━━━━━━━━━━━━━━━━━━━━━━━━━━━━━━━━━\u001b[0m \u001b[32m1.3/1.3 MB\u001b[0m \u001b[31m1.3 MB/s\u001b[0m eta \u001b[36m0:00:00\u001b[0ma \u001b[36m0:00:01\u001b[0m\n",
      "\u001b[?25hDownloading Authlib-1.3.1-py2.py3-none-any.whl (223 kB)\n",
      "\u001b[2K   \u001b[90m━━━━━━━━━━━━━━━━━━━━━━━━━━━━━━━━━━━━━━━━\u001b[0m \u001b[32m223.8/223.8 kB\u001b[0m \u001b[31m1.5 MB/s\u001b[0m eta \u001b[36m0:00:00\u001b[0ma \u001b[36m0:00:01\u001b[0m\n",
      "\u001b[?25hDownloading Deprecated-1.2.14-py2.py3-none-any.whl (9.6 kB)\n",
      "Downloading dirtyjson-1.0.8-py3-none-any.whl (25 kB)\n",
      "Downloading fsspec-2024.6.1-py3-none-any.whl (177 kB)\n",
      "\u001b[2K   \u001b[90m━━━━━━━━━━━━━━━━━━━━━━━━━━━━━━━━━━━━━━━━\u001b[0m \u001b[32m177.6/177.6 kB\u001b[0m \u001b[31m2.5 MB/s\u001b[0m eta \u001b[36m0:00:00\u001b[0ma \u001b[36m0:00:01\u001b[0m\n",
      "\u001b[?25hDownloading grpcio-1.65.4-cp311-cp311-manylinux_2_17_x86_64.manylinux2014_x86_64.whl (5.7 MB)\n",
      "\u001b[2K   \u001b[90m━━━━━━━━━━━━━━━━━━━━━━━━━━━━━━━━━━━━━━━━\u001b[0m \u001b[32m5.7/5.7 MB\u001b[0m \u001b[31m1.2 MB/s\u001b[0m eta \u001b[36m0:00:00\u001b[0m00:01\u001b[0m00:01\u001b[0m\n",
      "\u001b[?25hDownloading grpcio_health_checking-1.65.4-py3-none-any.whl (18 kB)\n",
      "Downloading grpcio_tools-1.65.4-cp311-cp311-manylinux_2_17_x86_64.manylinux2014_x86_64.whl (2.3 MB)\n",
      "\u001b[2K   \u001b[90m━━━━━━━━━━━━━━━━━━━━━━━━━━━━━━━━━━━━━━━━\u001b[0m \u001b[32m2.3/2.3 MB\u001b[0m \u001b[31m1.2 MB/s\u001b[0m eta \u001b[36m0:00:00\u001b[0m00:01\u001b[0m00:01\u001b[0m\n",
      "\u001b[?25hDownloading httpx-0.27.0-py3-none-any.whl (75 kB)\n",
      "\u001b[2K   \u001b[90m━━━━━━━━━━━━━━━━━━━━━━━━━━━━━━━━━━━━━━━━\u001b[0m \u001b[32m75.6/75.6 kB\u001b[0m \u001b[31m1.7 MB/s\u001b[0m eta \u001b[36m0:00:00\u001b[0ma \u001b[36m0:00:01\u001b[0m\n",
      "\u001b[?25hDownloading httpcore-1.0.5-py3-none-any.whl (77 kB)\n",
      "\u001b[2K   \u001b[90m━━━━━━━━━━━━━━━━━━━━━━━━━━━━━━━━━━━━━━━━\u001b[0m \u001b[32m77.9/77.9 kB\u001b[0m \u001b[31m3.1 MB/s\u001b[0m eta \u001b[36m0:00:00\u001b[0m\n",
      "\u001b[?25hDownloading llama_cloud-0.0.11-py3-none-any.whl (154 kB)\n",
      "\u001b[2K   \u001b[90m━━━━━━━━━━━━━━━━━━━━━━━━━━━━━━━━━━━━━━━━\u001b[0m \u001b[32m154.8/154.8 kB\u001b[0m \u001b[31m2.1 MB/s\u001b[0m eta \u001b[36m0:00:00\u001b[0ma \u001b[36m0:00:01\u001b[0m\n",
      "\u001b[?25hDownloading llama_parse-0.4.9-py3-none-any.whl (9.4 kB)\n",
      "Downloading minijinja-2.0.1-cp38-abi3-manylinux_2_17_x86_64.manylinux2014_x86_64.whl (853 kB)\n",
      "\u001b[2K   \u001b[90m━━━━━━━━━━━━━━━━━━━━━━━━━━━━━━━━━━━━━━━━\u001b[0m \u001b[32m853.2/853.2 kB\u001b[0m \u001b[31m1.3 MB/s\u001b[0m eta \u001b[36m0:00:00\u001b[0ma \u001b[36m0:00:01\u001b[0m\n",
      "\u001b[?25hDownloading networkx-3.3-py3-none-any.whl (1.7 MB)\n",
      "\u001b[2K   \u001b[90m━━━━━━━━━━━━━━━━━━━━━━━━━━━━━━━━━━━━━━━━\u001b[0m \u001b[32m1.7/1.7 MB\u001b[0m \u001b[31m1.2 MB/s\u001b[0m eta \u001b[36m0:00:00\u001b[0ma \u001b[36m0:00:01\u001b[0m\n",
      "\u001b[?25hDownloading nltk-3.8.1-py3-none-any.whl (1.5 MB)\n",
      "\u001b[2K   \u001b[90m━━━━━━━━━━━━━━━━━━━━━━━━━━━━━━━━━━━━━━━━\u001b[0m \u001b[32m1.5/1.5 MB\u001b[0m \u001b[31m1.2 MB/s\u001b[0m eta \u001b[36m0:00:00\u001b[0m00:01\u001b[0m00:01\u001b[0m\n",
      "\u001b[?25hDownloading numpy-1.26.4-cp311-cp311-manylinux_2_17_x86_64.manylinux2014_x86_64.whl (18.3 MB)\n",
      "\u001b[2K   \u001b[90m━━━━━━━━━━━━━━━━━━━━━━━━━━━━━━━━━━━━━━━━\u001b[0m \u001b[32m18.3/18.3 MB\u001b[0m \u001b[31m1.2 MB/s\u001b[0m eta \u001b[36m0:00:00\u001b[0m00:01\u001b[0m00:01\u001b[0m\n",
      "\u001b[?25hDownloading openai-1.38.0-py3-none-any.whl (335 kB)\n",
      "\u001b[2K   \u001b[90m━━━━━━━━━━━━━━━━━━━━━━━━━━━━━━━━━━━━━━━━\u001b[0m \u001b[32m335.9/335.9 kB\u001b[0m \u001b[31m1.4 MB/s\u001b[0m eta \u001b[36m0:00:00\u001b[0ma \u001b[36m0:00:01\u001b[0m\n",
      "\u001b[?25hDownloading pillow-10.4.0-cp311-cp311-manylinux_2_28_x86_64.whl (4.5 MB)\n",
      "\u001b[2K   \u001b[90m━━━━━━━━━━━━━━━━━━━━━━━━━━━━━━━━━━━━━━━━\u001b[0m \u001b[32m4.5/4.5 MB\u001b[0m \u001b[31m1.2 MB/s\u001b[0m eta \u001b[36m0:00:00\u001b[0m00:01\u001b[0m00:01\u001b[0m\n",
      "\u001b[?25hDownloading pydantic-2.8.2-py3-none-any.whl (423 kB)\n",
      "\u001b[2K   \u001b[90m━━━━━━━━━━━━━━━━━━━━━━━━━━━━━━━━━━━━━━━━\u001b[0m \u001b[32m423.9/423.9 kB\u001b[0m \u001b[31m1.4 MB/s\u001b[0m eta \u001b[36m0:00:00\u001b[0ma \u001b[36m0:00:01\u001b[0m\n",
      "\u001b[?25hDownloading pydantic_core-2.20.1-cp311-cp311-manylinux_2_17_x86_64.manylinux2014_x86_64.whl (2.1 MB)\n",
      "\u001b[2K   \u001b[90m━━━━━━━━━━━━━━━━━━━━━━━━━━━━━━━━━━━━━━━━\u001b[0m \u001b[32m2.1/2.1 MB\u001b[0m \u001b[31m1.2 MB/s\u001b[0m eta \u001b[36m0:00:00\u001b[0m00:01\u001b[0m00:01\u001b[0m\n",
      "\u001b[?25hDownloading pypdf-4.3.1-py3-none-any.whl (295 kB)\n",
      "\u001b[2K   \u001b[90m━━━━━━━━━━━━━━━━━━━━━━━━━━━━━━━━━━━━━━━━\u001b[0m \u001b[32m295.8/295.8 kB\u001b[0m \u001b[31m1.4 MB/s\u001b[0m eta \u001b[36m0:00:00\u001b[0ma \u001b[36m0:00:01\u001b[0m\n",
      "\u001b[?25hDownloading PyYAML-6.0.1-cp311-cp311-manylinux_2_17_x86_64.manylinux2014_x86_64.whl (757 kB)\n",
      "\u001b[2K   \u001b[90m━━━━━━━━━━━━━━━━━━━━━━━━━━━━━━━━━━━━━━━━\u001b[0m \u001b[32m757.7/757.7 kB\u001b[0m \u001b[31m1.3 MB/s\u001b[0m eta \u001b[36m0:00:00\u001b[0ma \u001b[36m0:00:01\u001b[0m\n",
      "\u001b[?25hDownloading SQLAlchemy-2.0.31-cp311-cp311-manylinux_2_17_x86_64.manylinux2014_x86_64.whl (3.2 MB)\n",
      "\u001b[2K   \u001b[90m━━━━━━━━━━━━━━━━━━━━━━━━━━━━━━━━━━━━━━━━\u001b[0m \u001b[32m3.2/3.2 MB\u001b[0m \u001b[31m1.2 MB/s\u001b[0m eta \u001b[36m0:00:00\u001b[0m00:01\u001b[0m00:01\u001b[0m\n",
      "\u001b[?25hDownloading striprtf-0.0.26-py3-none-any.whl (6.9 kB)\n",
      "Downloading tenacity-8.5.0-py3-none-any.whl (28 kB)\n",
      "Downloading tiktoken-0.7.0-cp311-cp311-manylinux_2_17_x86_64.manylinux2014_x86_64.whl (1.1 MB)\n",
      "\u001b[2K   \u001b[90m━━━━━━━━━━━━━━━━━━━━━━━━━━━━━━━━━━━━━━━━\u001b[0m \u001b[32m1.1/1.1 MB\u001b[0m \u001b[31m1.3 MB/s\u001b[0m eta \u001b[36m0:00:00\u001b[0m00:01\u001b[0m00:01\u001b[0m\n",
      "\u001b[?25hDownloading torch-2.4.0-cp311-cp311-manylinux1_x86_64.whl (797.3 MB)\n",
      "\u001b[2K   \u001b[90m━━━━━━━━━━━━━━━━━━━━━━━━━━━━━━━━━━━━━━━━\u001b[0m \u001b[32m797.3/797.3 MB\u001b[0m \u001b[31m1.2 MB/s\u001b[0m eta \u001b[36m0:00:00\u001b[0m00:01\u001b[0m00:17\u001b[0m\n",
      "\u001b[?25hDownloading nvidia_cublas_cu12-12.1.3.1-py3-none-manylinux1_x86_64.whl (410.6 MB)\n",
      "\u001b[2K   \u001b[90m━━━━━━━━━━━━━━━━━━━━━━━━━━━━━━━━━━━━━━━━\u001b[0m \u001b[32m410.6/410.6 MB\u001b[0m \u001b[31m1.1 MB/s\u001b[0m eta \u001b[36m0:00:00\u001b[0m00:01\u001b[0m00:09\u001b[0m\n",
      "\u001b[?25hDownloading nvidia_cuda_cupti_cu12-12.1.105-py3-none-manylinux1_x86_64.whl (14.1 MB)\n",
      "\u001b[2K   \u001b[90m━━━━━━━━━━━━━━━━━━━━━━━━━━━━━━━━━━━━━━━━\u001b[0m \u001b[32m14.1/14.1 MB\u001b[0m \u001b[31m1.2 MB/s\u001b[0m eta \u001b[36m0:00:00\u001b[0m00:01\u001b[0m00:01\u001b[0m\n",
      "\u001b[?25hDownloading nvidia_cuda_nvrtc_cu12-12.1.105-py3-none-manylinux1_x86_64.whl (23.7 MB)\n",
      "\u001b[2K   \u001b[90m━━━━━━━━━━━━━━━━━━━━━━━━━━━━━━━━━━━━━━━━\u001b[0m \u001b[32m23.7/23.7 MB\u001b[0m \u001b[31m1.2 MB/s\u001b[0m eta \u001b[36m0:00:00\u001b[0m00:01\u001b[0m00:01\u001b[0m\n",
      "\u001b[?25hDownloading nvidia_cuda_runtime_cu12-12.1.105-py3-none-manylinux1_x86_64.whl (823 kB)\n",
      "\u001b[2K   \u001b[90m━━━━━━━━━━━━━━━━━━━━━━━━━━━━━━━━━━━━━━━━\u001b[0m \u001b[32m823.6/823.6 kB\u001b[0m \u001b[31m1.3 MB/s\u001b[0m eta \u001b[36m0:00:00\u001b[0ma \u001b[36m0:00:01\u001b[0m\n",
      "\u001b[?25hDownloading nvidia_cudnn_cu12-9.1.0.70-py3-none-manylinux2014_x86_64.whl (664.8 MB)\n",
      "\u001b[2K   \u001b[90m━━━━━━━━━━━━━━━━━━━━━━━━━━━━━━━━━━━━━━━━\u001b[0m \u001b[32m664.8/664.8 MB\u001b[0m \u001b[31m1.2 MB/s\u001b[0m eta \u001b[36m0:00:00\u001b[0m00:01\u001b[0m00:14\u001b[0m\n",
      "\u001b[?25hDownloading nvidia_cufft_cu12-11.0.2.54-py3-none-manylinux1_x86_64.whl (121.6 MB)\n",
      "\u001b[2K   \u001b[90m━━━━━━━━━━━━━━━━━━━━━━━━━━━━━━━━━━━━━━━━\u001b[0m \u001b[32m121.6/121.6 MB\u001b[0m \u001b[31m1.2 MB/s\u001b[0m eta \u001b[36m0:00:00\u001b[0m00:01\u001b[0m00:03\u001b[0m\n",
      "\u001b[?25hDownloading nvidia_curand_cu12-10.3.2.106-py3-none-manylinux1_x86_64.whl (56.5 MB)\n",
      "\u001b[2K   \u001b[90m━━━━━━━━━━━━━━━━━━━━━━━━━━━━━━━━━━━━━━━━\u001b[0m \u001b[32m56.5/56.5 MB\u001b[0m \u001b[31m1.2 MB/s\u001b[0m eta \u001b[36m0:00:00\u001b[0m00:01\u001b[0m00:02\u001b[0m\n",
      "\u001b[?25hDownloading nvidia_cusolver_cu12-11.4.5.107-py3-none-manylinux1_x86_64.whl (124.2 MB)\n",
      "\u001b[2K   \u001b[90m━━━━━━━━━━━━━━━━━━━━━━━━━━━━━━━━━━━━━━━━\u001b[0m \u001b[32m124.2/124.2 MB\u001b[0m \u001b[31m1.2 MB/s\u001b[0m eta \u001b[36m0:00:00\u001b[0m00:01\u001b[0m00:03\u001b[0m\n",
      "\u001b[?25hDownloading nvidia_cusparse_cu12-12.1.0.106-py3-none-manylinux1_x86_64.whl (196.0 MB)\n",
      "\u001b[2K   \u001b[90m━━━━━━━━━━━━━━━━━━━━━━━━━━━━━━━━━━━━━━━━\u001b[0m \u001b[32m196.0/196.0 MB\u001b[0m \u001b[31m1.2 MB/s\u001b[0m eta \u001b[36m0:00:00\u001b[0m00:01\u001b[0m00:05\u001b[0m\n",
      "\u001b[?25hDownloading nvidia_nccl_cu12-2.20.5-py3-none-manylinux2014_x86_64.whl (176.2 MB)\n",
      "\u001b[2K   \u001b[90m━━━━━━━━━━━━━━━━━━━━━━━━━━━━━━━━━━━━━━━━\u001b[0m \u001b[32m176.2/176.2 MB\u001b[0m \u001b[31m1.2 MB/s\u001b[0m eta \u001b[36m0:00:00\u001b[0m00:01\u001b[0m00:04\u001b[0mm\n",
      "\u001b[?25hDownloading nvidia_nvtx_cu12-12.1.105-py3-none-manylinux1_x86_64.whl (99 kB)\n",
      "\u001b[2K   \u001b[90m━━━━━━━━━━━━━━━━━━━━━━━━━━━━━━━━━━━━━━━━\u001b[0m \u001b[32m99.1/99.1 kB\u001b[0m \u001b[31m1.8 MB/s\u001b[0m eta \u001b[36m0:00:00\u001b[0ma \u001b[36m0:00:01\u001b[0m\n",
      "\u001b[?25hDownloading triton-3.0.0-1-cp311-cp311-manylinux2014_x86_64.manylinux_2_17_x86_64.whl (209.4 MB)\n",
      "\u001b[2K   \u001b[90m━━━━━━━━━━━━━━━━━━━━━━━━━━━━━━━━━━━━━━━━\u001b[0m \u001b[32m209.4/209.4 MB\u001b[0m \u001b[31m1.2 MB/s\u001b[0m eta \u001b[36m0:00:00\u001b[0m00:01\u001b[0m00:05\u001b[0m\n",
      "\u001b[?25hDownloading tqdm-4.66.5-py3-none-any.whl (78 kB)\n",
      "\u001b[2K   \u001b[90m━━━━━━━━━━━━━━━━━━━━━━━━━━━━━━━━━━━━━━━━\u001b[0m \u001b[32m78.4/78.4 kB\u001b[0m \u001b[31m1.7 MB/s\u001b[0m eta \u001b[36m0:00:00\u001b[0ma \u001b[36m0:00:01\u001b[0m\n",
      "\u001b[?25hDownloading transformers-4.43.4-py3-none-any.whl (9.4 MB)\n",
      "\u001b[2K   \u001b[90m━━━━━━━━━━━━━━━━━━━━━━━━━━━━━━━━━━━━━━━━\u001b[0m \u001b[32m9.4/9.4 MB\u001b[0m \u001b[31m1.2 MB/s\u001b[0m eta \u001b[36m0:00:00\u001b[0m00:01\u001b[0m00:01\u001b[0m\n",
      "\u001b[?25hDownloading typing_inspect-0.9.0-py3-none-any.whl (8.8 kB)\n",
      "Downloading wrapt-1.16.0-cp311-cp311-manylinux_2_5_x86_64.manylinux1_x86_64.manylinux_2_17_x86_64.manylinux2014_x86_64.whl (80 kB)\n",
      "\u001b[2K   \u001b[90m━━━━━━━━━━━━━━━━━━━━━━━━━━━━━━━━━━━━━━━━\u001b[0m \u001b[32m80.7/80.7 kB\u001b[0m \u001b[31m1.8 MB/s\u001b[0m eta \u001b[36m0:00:00\u001b[0ma \u001b[36m0:00:01\u001b[0m\n",
      "\u001b[?25hDownloading dataclasses_json-0.6.7-py3-none-any.whl (28 kB)\n",
      "Downloading filelock-3.15.4-py3-none-any.whl (16 kB)\n",
      "Downloading pandas-2.2.2-cp311-cp311-manylinux_2_17_x86_64.manylinux2014_x86_64.whl (13.0 MB)\n",
      "\u001b[2K   \u001b[90m━━━━━━━━━━━━━━━━━━━━━━━━━━━━━━━━━━━━━━━━\u001b[0m \u001b[32m13.0/13.0 MB\u001b[0m \u001b[31m1.2 MB/s\u001b[0m eta \u001b[36m0:00:00\u001b[0m00:01\u001b[0m00:01\u001b[0m\n",
      "\u001b[?25hDownloading scikit_learn-1.5.1-cp311-cp311-manylinux_2_17_x86_64.manylinux2014_x86_64.whl (13.3 MB)\n",
      "\u001b[2K   \u001b[90m━━━━━━━━━━━━━━━━━━━━━━━━━━━━━━━━━━━━━━━━\u001b[0m \u001b[32m13.3/13.3 MB\u001b[0m \u001b[31m1.2 MB/s\u001b[0m eta \u001b[36m0:00:00\u001b[0m00:01\u001b[0m00:01\u001b[0m\n",
      "\u001b[?25hDownloading scipy-1.14.0-cp311-cp311-manylinux_2_17_x86_64.manylinux2014_x86_64.whl (41.1 MB)\n",
      "\u001b[2K   \u001b[90m━━━━━━━━━━━━━━━━━━━━━━━━━━━━━━━━━━━━━━━━\u001b[0m \u001b[32m41.1/41.1 MB\u001b[0m \u001b[31m1.2 MB/s\u001b[0m eta \u001b[36m0:00:00\u001b[0m00:01\u001b[0m00:01\u001b[0m\n",
      "\u001b[?25hDownloading aiohappyeyeballs-2.3.4-py3-none-any.whl (12 kB)\n",
      "Downloading aiosignal-1.3.1-py3-none-any.whl (7.6 kB)\n",
      "Downloading annotated_types-0.7.0-py3-none-any.whl (13 kB)\n",
      "Downloading anyio-4.4.0-py3-none-any.whl (86 kB)\n",
      "\u001b[2K   \u001b[90m━━━━━━━━━━━━━━━━━━━━━━━━━━━━━━━━━━━━━━━━\u001b[0m \u001b[32m86.8/86.8 kB\u001b[0m \u001b[31m2.0 MB/s\u001b[0m eta \u001b[36m0:00:00\u001b[0ma \u001b[36m0:00:01\u001b[0m\n",
      "\u001b[?25hDownloading attrs-24.1.0-py3-none-any.whl (63 kB)\n",
      "\u001b[2K   \u001b[90m━━━━━━━━━━━━━━━━━━━━━━━━━━━━━━━━━━━━━━━━\u001b[0m \u001b[32m63.9/63.9 kB\u001b[0m \u001b[31m1.8 MB/s\u001b[0m eta \u001b[36m0:00:00\u001b[0m\n",
      "\u001b[?25hDownloading distro-1.9.0-py3-none-any.whl (20 kB)\n",
      "Downloading frozenlist-1.4.1-cp311-cp311-manylinux_2_5_x86_64.manylinux1_x86_64.manylinux_2_17_x86_64.manylinux2014_x86_64.whl (272 kB)\n",
      "\u001b[2K   \u001b[90m━━━━━━━━━━━━━━━━━━━━━━━━━━━━━━━━━━━━━━━━\u001b[0m \u001b[32m272.3/272.3 kB\u001b[0m \u001b[31m2.0 MB/s\u001b[0m eta \u001b[36m0:00:00\u001b[0ma \u001b[36m0:00:01\u001b[0m\n",
      "\u001b[?25hDownloading greenlet-3.0.3-cp311-cp311-manylinux_2_24_x86_64.manylinux_2_28_x86_64.whl (620 kB)\n",
      "\u001b[2K   \u001b[90m━━━━━━━━━━━━━━━━━━━━━━━━━━━━━━━━━━━━━━━━\u001b[0m \u001b[32m620.0/620.0 kB\u001b[0m \u001b[31m1.6 MB/s\u001b[0m eta \u001b[36m0:00:00\u001b[0ma \u001b[36m0:00:01\u001b[0m\n",
      "\u001b[?25hDownloading joblib-1.4.2-py3-none-any.whl (301 kB)\n",
      "\u001b[2K   \u001b[90m━━━━━━━━━━━━━━━━━━━━━━━━━━━━━━━━━━━━━━━━\u001b[0m \u001b[32m301.8/301.8 kB\u001b[0m \u001b[31m1.5 MB/s\u001b[0m eta \u001b[36m0:00:00\u001b[0ma \u001b[36m0:00:01\u001b[0m\n",
      "\u001b[?25hDownloading marshmallow-3.21.3-py3-none-any.whl (49 kB)\n",
      "\u001b[2K   \u001b[90m━━━━━━━━━━━━━━━━━━━━━━━━━━━━━━━━━━━━━━━━\u001b[0m \u001b[32m49.2/49.2 kB\u001b[0m \u001b[31m1.6 MB/s\u001b[0m eta \u001b[36m0:00:00\u001b[0m\n",
      "\u001b[?25hDownloading multidict-6.0.5-cp311-cp311-manylinux_2_17_x86_64.manylinux2014_x86_64.whl (128 kB)\n",
      "\u001b[2K   \u001b[90m━━━━━━━━━━━━━━━━━━━━━━━━━━━━━━━━━━━━━━━━\u001b[0m \u001b[32m128.7/128.7 kB\u001b[0m \u001b[31m2.5 MB/s\u001b[0m eta \u001b[36m0:00:00\u001b[0m \u001b[36m0:00:01\u001b[0m\n",
      "\u001b[?25hDownloading mypy_extensions-1.0.0-py3-none-any.whl (4.7 kB)\n",
      "Downloading protobuf-5.27.3-cp38-abi3-manylinux2014_x86_64.whl (309 kB)\n",
      "\u001b[2K   \u001b[90m━━━━━━━━━━━━━━━━━━━━━━━━━━━━━━━━━━━━━━━━\u001b[0m \u001b[32m309.3/309.3 kB\u001b[0m \u001b[31m1.7 MB/s\u001b[0m eta \u001b[36m0:00:00\u001b[0ma \u001b[36m0:00:01\u001b[0m\n",
      "\u001b[?25hDownloading pytz-2024.1-py2.py3-none-any.whl (505 kB)\n",
      "\u001b[2K   \u001b[90m━━━━━━━━━━━━━━━━━━━━━━━━━━━━━━━━━━━━━━━━\u001b[0m \u001b[32m505.5/505.5 kB\u001b[0m \u001b[31m1.3 MB/s\u001b[0m eta \u001b[36m0:00:00\u001b[0ma \u001b[36m0:00:01\u001b[0m\n",
      "\u001b[?25hDownloading regex-2024.7.24-cp311-cp311-manylinux_2_17_x86_64.manylinux2014_x86_64.whl (786 kB)\n",
      "\u001b[2K   \u001b[90m━━━━━━━━━━━━━━━━━━━━━━━━━━━━━━━━━━━━━━━━\u001b[0m \u001b[32m786.6/786.6 kB\u001b[0m \u001b[31m1.3 MB/s\u001b[0m eta \u001b[36m0:00:00\u001b[0ma \u001b[36m0:00:01\u001b[0m\n",
      "\u001b[?25hDownloading safetensors-0.4.4-cp311-cp311-manylinux_2_17_x86_64.manylinux2014_x86_64.whl (435 kB)\n",
      "\u001b[2K   \u001b[90m━━━━━━━━━━━━━━━━━━━━━━━━━━━━━━━━━━━━━━━━\u001b[0m \u001b[32m435.4/435.4 kB\u001b[0m \u001b[31m1.4 MB/s\u001b[0m eta \u001b[36m0:00:00\u001b[0ma \u001b[36m0:00:01\u001b[0m\n",
      "\u001b[?25hDownloading sniffio-1.3.1-py3-none-any.whl (10 kB)\n",
      "Downloading threadpoolctl-3.5.0-py3-none-any.whl (18 kB)\n",
      "Downloading tokenizers-0.19.1-cp311-cp311-manylinux_2_17_x86_64.manylinux2014_x86_64.whl (3.6 MB)\n",
      "\u001b[2K   \u001b[90m━━━━━━━━━━━━━━━━━━━━━━━━━━━━━━━━━━━━━━━━\u001b[0m \u001b[32m3.6/3.6 MB\u001b[0m \u001b[31m1.2 MB/s\u001b[0m eta \u001b[36m0:00:00\u001b[0m00:01\u001b[0m00:01\u001b[0m\n",
      "\u001b[?25hDownloading tzdata-2024.1-py2.py3-none-any.whl (345 kB)\n",
      "\u001b[2K   \u001b[90m━━━━━━━━━━━━━━━━━━━━━━━━━━━━━━━━━━━━━━━━\u001b[0m \u001b[32m345.4/345.4 kB\u001b[0m \u001b[31m1.4 MB/s\u001b[0m eta \u001b[36m0:00:00\u001b[0ma \u001b[36m0:00:01\u001b[0m\n",
      "\u001b[?25hDownloading yarl-1.9.4-cp311-cp311-manylinux_2_17_x86_64.manylinux2014_x86_64.whl (328 kB)\n",
      "\u001b[2K   \u001b[90m━━━━━━━━━━━━━━━━━━━━━━━━━━━━━━━━━━━━━━━━\u001b[0m \u001b[32m328.1/328.1 kB\u001b[0m \u001b[31m1.4 MB/s\u001b[0m eta \u001b[36m0:00:00\u001b[0ma \u001b[36m0:00:01\u001b[0m\n",
      "\u001b[?25hDownloading click-8.1.7-py3-none-any.whl (97 kB)\n",
      "\u001b[2K   \u001b[90m━━━━━━━━━━━━━━━━━━━━━━━━━━━━━━━━━━━━━━━━\u001b[0m \u001b[32m97.9/97.9 kB\u001b[0m \u001b[31m1.8 MB/s\u001b[0m eta \u001b[36m0:00:00\u001b[0ma \u001b[36m0:00:01\u001b[0m\n",
      "\u001b[?25hDownloading cryptography-43.0.0-cp39-abi3-manylinux_2_28_x86_64.whl (4.0 MB)\n",
      "\u001b[2K   \u001b[90m━━━━━━━━━━━━━━━━━━━━━━━━━━━━━━━━━━━━━━━━\u001b[0m \u001b[32m4.0/4.0 MB\u001b[0m \u001b[31m1.2 MB/s\u001b[0m eta \u001b[36m0:00:00\u001b[0m00:01\u001b[0m00:01\u001b[0m\n",
      "\u001b[?25hDownloading jinja2-3.1.4-py3-none-any.whl (133 kB)\n",
      "\u001b[2K   \u001b[90m━━━━━━━━━━━━━━━━━━━━━━━━━━━━━━━━━━━━━━━━\u001b[0m \u001b[32m133.3/133.3 kB\u001b[0m \u001b[31m1.8 MB/s\u001b[0m eta \u001b[36m0:00:00\u001b[0ma \u001b[36m0:00:01\u001b[0m\n",
      "\u001b[?25hDownloading sympy-1.13.1-py3-none-any.whl (6.2 MB)\n",
      "\u001b[2K   \u001b[90m━━━━━━━━━━━━━━━━━━━━━━━━━━━━━━━━━━━━━━━━\u001b[0m \u001b[32m6.2/6.2 MB\u001b[0m \u001b[31m1.2 MB/s\u001b[0m eta \u001b[36m0:00:00\u001b[0m00:01\u001b[0m00:01\u001b[0m\n",
      "\u001b[?25hDownloading cffi-1.16.0-cp311-cp311-manylinux_2_17_x86_64.manylinux2014_x86_64.whl (464 kB)\n",
      "\u001b[2K   \u001b[90m━━━━━━━━━━━━━━━━━━━━━━━━━━━━━━━━━━━━━━━━\u001b[0m \u001b[32m464.8/464.8 kB\u001b[0m \u001b[31m1.3 MB/s\u001b[0m eta \u001b[36m0:00:00\u001b[0ma \u001b[36m0:00:01\u001b[0m\n",
      "\u001b[?25hDownloading h11-0.14.0-py3-none-any.whl (58 kB)\n",
      "\u001b[2K   \u001b[90m━━━━━━━━━━━━━━━━━━━━━━━━━━━━━━━━━━━━━━━━\u001b[0m \u001b[32m58.3/58.3 kB\u001b[0m \u001b[31m1.6 MB/s\u001b[0m eta \u001b[36m0:00:00\u001b[0ma \u001b[36m0:00:01\u001b[0m\n",
      "\u001b[?25hDownloading MarkupSafe-2.1.5-cp311-cp311-manylinux_2_17_x86_64.manylinux2014_x86_64.whl (28 kB)\n",
      "Downloading mpmath-1.3.0-py3-none-any.whl (536 kB)\n",
      "\u001b[2K   \u001b[90m━━━━━━━━━━━━━━━━━━━━━━━━━━━━━━━━━━━━━━━━\u001b[0m \u001b[32m536.2/536.2 kB\u001b[0m \u001b[31m1.5 MB/s\u001b[0m eta \u001b[36m0:00:00\u001b[0ma \u001b[36m0:00:01\u001b[0m\n",
      "\u001b[?25hDownloading nvidia_nvjitlink_cu12-12.6.20-py3-none-manylinux2014_x86_64.whl (19.7 MB)\n",
      "\u001b[2K   \u001b[90m━━━━━━━━━━━━━━━━━━━━━━━━━━━━━━━━━━━━━━━━\u001b[0m \u001b[32m19.7/19.7 MB\u001b[0m \u001b[31m1.2 MB/s\u001b[0m eta \u001b[36m0:00:00\u001b[0m00:01\u001b[0m00:01\u001b[0m\n",
      "\u001b[?25hDownloading pycparser-2.22-py3-none-any.whl (117 kB)\n",
      "\u001b[2K   \u001b[90m━━━━━━━━━━━━━━━━━━━━━━━━━━━━━━━━━━━━━━━━\u001b[0m \u001b[32m117.6/117.6 kB\u001b[0m \u001b[31m1.8 MB/s\u001b[0m eta \u001b[36m0:00:00\u001b[0m \u001b[36m0:00:01\u001b[0m\n",
      "\u001b[?25hInstalling collected packages: striprtf, pytz, mpmath, dirtyjson, wrapt, validators, tzdata, tqdm, threadpoolctl, tenacity, sympy, sniffio, safetensors, regex, PyYAML, pypdf, pydantic-core, pycparser, protobuf, pillow, nvidia-nvtx-cu12, nvidia-nvjitlink-cu12, nvidia-nccl-cu12, nvidia-curand-cu12, nvidia-cufft-cu12, nvidia-cuda-runtime-cu12, nvidia-cuda-nvrtc-cu12, nvidia-cuda-cupti-cu12, nvidia-cublas-cu12, numpy, networkx, mypy-extensions, multidict, minijinja, marshmallow, MarkupSafe, joblib, h11, grpcio, greenlet, fsspec, frozenlist, filelock, distro, click, attrs, annotated-types, aiohappyeyeballs, yarl, typing-inspect, triton, tiktoken, SQLAlchemy, scipy, pydantic, pandas, nvidia-cusparse-cu12, nvidia-cudnn-cu12, nltk, jinja2, huggingface-hub, httpcore, grpcio-tools, grpcio-health-checking, deprecated, cffi, anyio, aiosignal, tokenizers, scikit-learn, nvidia-cusolver-cu12, httpx, dataclasses-json, cryptography, aiohttp, transformers, torch, openai, llama-cloud, authlib, weaviate-client, sentence-transformers, llama-index-legacy, llama-index-core, llama-parse, llama-index-vector-stores-weaviate, llama-index-readers-file, llama-index-llms-openai, llama-index-indices-managed-llama-cloud, llama-index-embeddings-openai, llama-index-embeddings-huggingface, llama-index-readers-llama-parse, llama-index-multi-modal-llms-openai, llama-index-cli, llama-index-agent-openai, llama-index-program-openai, llama-index-question-gen-openai, llama-index\n",
      "Successfully installed MarkupSafe-2.1.5 PyYAML-6.0.1 SQLAlchemy-2.0.31 aiohappyeyeballs-2.3.4 aiohttp-3.10.1 aiosignal-1.3.1 annotated-types-0.7.0 anyio-4.4.0 attrs-24.1.0 authlib-1.3.1 cffi-1.16.0 click-8.1.7 cryptography-43.0.0 dataclasses-json-0.6.7 deprecated-1.2.14 dirtyjson-1.0.8 distro-1.9.0 filelock-3.15.4 frozenlist-1.4.1 fsspec-2024.6.1 greenlet-3.0.3 grpcio-1.65.4 grpcio-health-checking-1.65.4 grpcio-tools-1.65.4 h11-0.14.0 httpcore-1.0.5 httpx-0.27.0 huggingface-hub-0.24.5 jinja2-3.1.4 joblib-1.4.2 llama-cloud-0.0.11 llama-index-0.10.59 llama-index-agent-openai-0.2.9 llama-index-cli-0.1.13 llama-index-core-0.10.59 llama-index-embeddings-huggingface-0.2.2 llama-index-embeddings-openai-0.1.11 llama-index-indices-managed-llama-cloud-0.2.7 llama-index-legacy-0.9.48 llama-index-llms-openai-0.1.27 llama-index-multi-modal-llms-openai-0.1.8 llama-index-program-openai-0.1.7 llama-index-question-gen-openai-0.1.3 llama-index-readers-file-0.1.32 llama-index-readers-llama-parse-0.1.6 llama-index-vector-stores-weaviate-1.0.2 llama-parse-0.4.9 marshmallow-3.21.3 minijinja-2.0.1 mpmath-1.3.0 multidict-6.0.5 mypy-extensions-1.0.0 networkx-3.3 nltk-3.8.1 numpy-1.26.4 nvidia-cublas-cu12-12.1.3.1 nvidia-cuda-cupti-cu12-12.1.105 nvidia-cuda-nvrtc-cu12-12.1.105 nvidia-cuda-runtime-cu12-12.1.105 nvidia-cudnn-cu12-9.1.0.70 nvidia-cufft-cu12-11.0.2.54 nvidia-curand-cu12-10.3.2.106 nvidia-cusolver-cu12-11.4.5.107 nvidia-cusparse-cu12-12.1.0.106 nvidia-nccl-cu12-2.20.5 nvidia-nvjitlink-cu12-12.6.20 nvidia-nvtx-cu12-12.1.105 openai-1.38.0 pandas-2.2.2 pillow-10.4.0 protobuf-5.27.3 pycparser-2.22 pydantic-2.8.2 pydantic-core-2.20.1 pypdf-4.3.1 pytz-2024.1 regex-2024.7.24 safetensors-0.4.4 scikit-learn-1.5.1 scipy-1.14.0 sentence-transformers-3.0.1 sniffio-1.3.1 striprtf-0.0.26 sympy-1.13.1 tenacity-8.5.0 threadpoolctl-3.5.0 tiktoken-0.7.0 tokenizers-0.19.1 torch-2.4.0 tqdm-4.66.5 transformers-4.43.4 triton-3.0.0 typing-inspect-0.9.0 tzdata-2024.1 validators-0.33.0 weaviate-client-4.7.1 wrapt-1.16.0 yarl-1.9.4\n"
     ]
    }
   ],
   "source": [
    "!pip install llama-index-vector-stores-weaviate llama-index llama-index-embeddings-huggingface"
   ]
  },
  {
   "cell_type": "code",
   "execution_count": 1,
   "metadata": {},
   "outputs": [
    {
     "name": "stderr",
     "output_type": "stream",
     "text": [
      "/mnt/annd/.conda/phucnh/lib/python3.11/site-packages/tqdm/auto.py:21: TqdmWarning: IProgress not found. Please update jupyter and ipywidgets. See https://ipywidgets.readthedocs.io/en/stable/user_install.html\n",
      "  from .autonotebook import tqdm as notebook_tqdm\n"
     ]
    }
   ],
   "source": [
    "from llama_index.embeddings.huggingface import HuggingFaceEmbedding\n",
    "embed_model = HuggingFaceEmbedding(model_name=\"BAAI/bge-m3\", device=\"cuda\")"
   ]
  },
  {
   "cell_type": "code",
   "execution_count": 2,
   "metadata": {},
   "outputs": [],
   "source": [
    "import weaviate\n",
    "cluster_url = \"http://localhost:9090\"\n",
    "client = weaviate.connect_to_local(\n",
    "    port=9090\n",
    ")"
   ]
  },
  {
   "cell_type": "markdown",
   "metadata": {},
   "source": [
    "Thêm summary cho chunk"
   ]
  },
  {
   "cell_type": "code",
   "execution_count": 1,
   "metadata": {},
   "outputs": [],
   "source": [
    "from langchain_core.prompts import ChatPromptTemplate\n",
    "import uuid\n",
    "from langchain.chat_models import ChatOpenAI\n",
    "import os\n",
    "from typing import Optional\n",
    "from langchain_core.pydantic_v1 import BaseModel\n",
    "from langchain.chains import create_extraction_chain_pydantic"
   ]
  },
  {
   "cell_type": "code",
   "execution_count": 2,
   "metadata": {},
   "outputs": [],
   "source": [
    "def _get_new_chunk_summary(context):\n",
    "    PROMPT = ChatPromptTemplate.from_messages(\n",
    "        [\n",
    "            (\n",
    "                \"system\",\n",
    "                \"\"\"\n",
    "                Bạn là người quản lý một nhóm các đoạn văn bản, bảng hoặc biểu đồ, trong đó mỗi đoạn đều đại diện cho một nhóm các câu nói về một chủ đề tương tự nhau.\n",
    "                Bạn cần tạo ra một tóm tắt ngắn gọn trong 1 câu để thông báo cho người xem biết đoạn văn bản, bảng hoặc biểu đó nói về chủ đề gì.\n",
    "\n",
    "                Một tóm tắt tốt sẽ nói lên nội dung của đoạn văn bản, bảng hoặc biểu đồ\n",
    "\n",
    "                Bạn sẽ nhận được một đề xuất mới sẽ được thêm vào đoạn văn bản, bảng hoặc biểu mới. Đoạn văn bản, bảng hoặc biểu đồ mới này cần có một tóm tắt.\n",
    "\n",
    "                Tóm tắt của bạn nên có tính khái quát tương đối. Nếu bạn nhận được một đề xuất về táo, hãy khái quát nó thành thực phẩm.\n",
    "                Hoặc nếu là tháng, hãy khái quát nó thành \"ngày và thời gian\".\n",
    "\n",
    "                Ví dụ:\n",
    "                Đầu vào: Đề xuất: Greg thích ăn pizza\n",
    "                Đầu ra: Đoạn văn bản này chứa thông tin về các loại thực phẩm mà Greg thích ăn.\n",
    "\n",
    "                Chỉ phản hồi lại bằng tóm tắt của đoạn văn bản mới, không thêm gì khác.\n",
    "                \"\"\",\n",
    "            ),\n",
    "            (\"user\", \"Xác định tóm tắt của đoạn văn bản mới mà đề xuất này sẽ được thêm vào:\\n{context}\"),\n",
    "        ]\n",
    "    )\n",
    "    llm = ChatOpenAI(model='gpt-4o-mini', openai_api_key=os.environ[\"OPENAI_API_KEY\"], temperature=0)\n",
    "\n",
    "    runnable = PROMPT | llm\n",
    "\n",
    "    new_chunk_summary = runnable.invoke({\n",
    "        \"context\": context\n",
    "    }).content\n",
    "\n",
    "    return new_chunk_summary"
   ]
  },
  {
   "cell_type": "markdown",
   "metadata": {},
   "source": [
    "Cắt Điều trong các bộ luật"
   ]
  },
  {
   "cell_type": "code",
   "execution_count": 85,
   "metadata": {},
   "outputs": [],
   "source": [
    "import re"
   ]
  },
  {
   "cell_type": "code",
   "execution_count": 86,
   "metadata": {},
   "outputs": [],
   "source": [
    "def create_Dieu(file_path):\n",
    "    muc_luc = list()\n",
    "    with open(file_path, 'r', encoding='utf-8') as file:\n",
    "        content = file.read()\n",
    "    \n",
    "    pattern = r'(\\* Trang \\d+)(.*?)(?=\\* Trang \\d+|$)'\n",
    "    article_pattern = r\"#+\\s+Điều\\s+\\d+[:.]\\s+[^\\n]+\"\n",
    "    matches = re.findall(pattern, content, re.DOTALL)\n",
    "    pages = [match[0] + match[1] for match in matches]\n",
    "    print(len(pages))\n",
    "    for i, page in enumerate(pages, 1):\n",
    "    \n",
    "        a_matches = re.findall(article_pattern, page)\n",
    "        for a in a_matches:\n",
    "            muc_luc.append({\"object\": a, \"page\": i})\n",
    "    \n",
    "\n",
    "    documents = []\n",
    "    chapter_pattern = r'(#+\\s+Chương\\s+[IVXLCDM]+.*?)(?=#+\\s+Chương\\s+[IVXLCDM]+|$)'\n",
    "\n",
    "\n",
    "    chapters = re.findall(chapter_pattern, content, re.S)\n",
    "\n",
    "    if len(chapters) == 0:\n",
    "        article_pattern = r'(#+\\s+Điều\\s+\\d+[:.].*?)(?=\\n+#+\\s+Mẫu số|\\n+#+\\s+Phụ lục|\\n+#+\\s+Điều\\s+\\d+|\\n+#+\\s+Chương\\s+[IVXLCDM]+|$)'\n",
    "        articles = re.findall(article_pattern, content, re.DOTALL)\n",
    "        for article in articles:\n",
    "            a_content = re.sub(r'\\* Trang \\d+', '', article)\n",
    "            a_content = re.sub(r'[^\\w\\s.,;:|]', '', a_content)\n",
    "            a_content = re.sub(r'\\n+', ' ', a_content).strip()\n",
    "            for muc in muc_luc:\n",
    "                if article.find(muc[\"object\"]) != -1:\n",
    "                    documents.append({\"raw_text\": article, \"content\": a_content, \"summary\": _get_new_chunk_summary(a_content), \"src\": file_path.replace(\".md\", \".pdf\"), \"chapter\": \"none\", \"page\": muc[\"page\"]})\n",
    "                    break\n",
    "    else:\n",
    "        article_pattern = r'(#+\\s+Điều\\s+\\d+[:.].*?)(?=\\n+#+\\s+Mẫu số|\\n+#+\\s+Phụ lục|\\n+#+\\s+Điều\\s+\\d+|\\n+#+\\s+Chương\\s+[IVXLCDM]+|$)'\n",
    "        chapter_to_articles = {}\n",
    "        for chapter in chapters:\n",
    "            chapter_title_match = re.search(r'##\\s+(Chương\\s+\\w+)', chapter)\n",
    "            if chapter_title_match:\n",
    "                chapter_title = chapter_title_match.group(1)\n",
    "                chapter_to_articles[chapter_title] = []\n",
    "                \n",
    "                articles = re.findall(article_pattern, chapter, re.S)\n",
    "                for article in articles:\n",
    "                    a_content = re.sub(r'\\* Trang \\d+', '', article)\n",
    "                    a_content = re.sub(r'[^\\w\\s.,;:|]', '', a_content)\n",
    "                    a_content = re.sub(r'\\n+', ' ', a_content).strip()\n",
    "                    for muc in muc_luc:\n",
    "                        if article.find(muc[\"object\"]) != -1:\n",
    "                            documents.append({\"raw_text\": article, \"content\": a_content, \"summary\": _get_new_chunk_summary(a_content), \"src\": file_path.replace(\".md\", \".pdf\"), \"chapter\": chapter_title, \"page\": muc[\"page\"]})\n",
    "                            break\n",
    "    return documents\n",
    "            "
   ]
  },
  {
   "cell_type": "code",
   "execution_count": 87,
   "metadata": {},
   "outputs": [
    {
     "name": "stdout",
     "output_type": "stream",
     "text": [
      "6\n"
     ]
    }
   ],
   "source": [
    "documents = create_Dieu(\"parsed_file/14_nghị_định_42_2023_hướng_dẫn_điều_chỉnh_lương_hưu,_trợ_cấp_BHXH.md\")"
   ]
  },
  {
   "cell_type": "code",
   "execution_count": 88,
   "metadata": {},
   "outputs": [
    {
     "data": {
      "text/plain": [
       "6"
      ]
     },
     "execution_count": 88,
     "metadata": {},
     "output_type": "execute_result"
    }
   ],
   "source": [
    "len(documents)"
   ]
  },
  {
   "cell_type": "code",
   "execution_count": 89,
   "metadata": {},
   "outputs": [
    {
     "data": {
      "text/plain": [
       "{'raw_text': '### Điều 3. Nguồn kinh phí thực hiện\\n\\nNguồn kinh phí thực hiện điều chỉnh lương hưu, trợ cấp bảo hiểm xã hội và trợ cấp hằng tháng áp dụng đối với các đối tượng quy định tại ## Điều 1 Nghị định này được quy định như sau:\\n\\n1. Ngân sách nhà nước bảo đảm đối với các đối tượng hưởng chế độ bảo hiểm xã hội từ ngân sách nhà nước ngày 01 tháng 01 năm 1995; hướng trợ cấp hằng tháng theo Quyết định số 91/2000/QĐ-TTg ngày 04 tháng 8 năm 2000 của Thủ tướng Chính phủ về việc trợ cấp cho những người đã hết tuổi lao động tại ## điểm ngày 06 tháng 5 năm 2010 của Thủ tướng Chính phủ về việc trợ cấp hằng tháng cho những người có từ đủ 15 năm đến dưới 20 năm công tác thì đã hết thời hạn hưởng trợ cấp mất sức lao động vào các đối tượng quy định tại ## điểm d, ## điểm e và ## điểm g khoản 1 ## Điều 1 Nghị định này; hướng lương hưu theo Nghị định số 159/2006/NĐ-CP ngày 28 tháng 12 năm 2006 của Chính phủ về việc thực hiện chế độ hưu trí đối với quân nhân trực tiếp tham gia kháng chiến chống Mỹ cứu nước từ ngày 30 tháng 4 năm 1975 trở về trước có 20 năm trở lên phục vụ quân đội đã phục viên, xuất ngũ, Nghị định số 11/2011/NĐ-CP ngày 30 tháng 01 năm 2011 của Chính phủ sửa đổi, bổ sung một số điều của Nghị định số 159/2006/NĐ-CP ngày 28 tháng 12 năm 2006 của Chính phủ về việc thực hiện chế độ hưu trí đối với quân nhân trực tiếp tham gia kháng chiến chống Mỹ cứu nước từ ngày 30 tháng 4 năm 1975 trở về trước có 20 năm trở lên phục vụ quân đội đã phục viên, xuất ngũ, thôi việc.\\n\\n2. Quỹ bảo hiểm xã hội bảo đảm đối với các đối tượng hưởng chế độ bảo hiểm xã hội từ ngày 01 tháng 01 năm 1995 trở đi, kể cả đối tượng đang hưởng lương hưu, trợ cấp hằng tháng theo: Nghị định số 92/2009/NĐ-CP ngày 22 tháng 10 năm 2009 của Chính phủ về chức danh, số lượng, một số chế độ, chính sách đối với cán bộ, công chức xã, phường, thị trấn và những người hoạt động không chuyên trách ở cấp xã, Nghị định số 34/2019/NĐ-CP ngày 24 tháng 4 năm 2019 của Chính phủ sửa đổi, bổ sung một số quy định về cán bộ, công chức cấp xã và người hoạt động không chuyên trách ở cấp xã, ở thôn, tổ dân phố, Nghị định số 121/2003/NĐ-CP ngày 21 tháng 10 năm 2003 của Chính phủ về chế độ, chính sách đối với cán bộ, công chức xã, phường, thị trấn và Nghị định số 09/1998/NĐ-CP ngày 23 tháng 01 năm 1998 của Chính phủ sửa đổi, bổ sung Nghị định 50/CP ngày 26 tháng 7 năm 1995 của Chính phủ về chế độ sinh hoạt phí đối với cán bộ, phường, thị trấn.\\n\\n* Trang 5',\n",
       " 'content': 'Điều 3. Nguồn kinh phí thực hiện Nguồn kinh phí thực hiện điều chỉnh lương hưu, trợ cấp bảo hiểm xã hội và trợ cấp hằng tháng áp dụng đối với các đối tượng quy định tại  Điều 1 Nghị định này được quy định như sau: 1. Ngân sách nhà nước bảo đảm đối với các đối tượng hưởng chế độ bảo hiểm xã hội từ ngân sách nhà nước ngày 01 tháng 01 năm 1995; hướng trợ cấp hằng tháng theo Quyết định số 912000QĐTTg ngày 04 tháng 8 năm 2000 của Thủ tướng Chính phủ về việc trợ cấp cho những người đã hết tuổi lao động tại  điểm ngày 06 tháng 5 năm 2010 của Thủ tướng Chính phủ về việc trợ cấp hằng tháng cho những người có từ đủ 15 năm đến dưới 20 năm công tác thì đã hết thời hạn hưởng trợ cấp mất sức lao động vào các đối tượng quy định tại  điểm d,  điểm e và  điểm g khoản 1  Điều 1 Nghị định này; hướng lương hưu theo Nghị định số 1592006NĐCP ngày 28 tháng 12 năm 2006 của Chính phủ về việc thực hiện chế độ hưu trí đối với quân nhân trực tiếp tham gia kháng chiến chống Mỹ cứu nước từ ngày 30 tháng 4 năm 1975 trở về trước có 20 năm trở lên phục vụ quân đội đã phục viên, xuất ngũ, Nghị định số 112011NĐCP ngày 30 tháng 01 năm 2011 của Chính phủ sửa đổi, bổ sung một số điều của Nghị định số 1592006NĐCP ngày 28 tháng 12 năm 2006 của Chính phủ về việc thực hiện chế độ hưu trí đối với quân nhân trực tiếp tham gia kháng chiến chống Mỹ cứu nước từ ngày 30 tháng 4 năm 1975 trở về trước có 20 năm trở lên phục vụ quân đội đã phục viên, xuất ngũ, thôi việc. 2. Quỹ bảo hiểm xã hội bảo đảm đối với các đối tượng hưởng chế độ bảo hiểm xã hội từ ngày 01 tháng 01 năm 1995 trở đi, kể cả đối tượng đang hưởng lương hưu, trợ cấp hằng tháng theo: Nghị định số 922009NĐCP ngày 22 tháng 10 năm 2009 của Chính phủ về chức danh, số lượng, một số chế độ, chính sách đối với cán bộ, công chức xã, phường, thị trấn và những người hoạt động không chuyên trách ở cấp xã, Nghị định số 342019NĐCP ngày 24 tháng 4 năm 2019 của Chính phủ sửa đổi, bổ sung một số quy định về cán bộ, công chức cấp xã và người hoạt động không chuyên trách ở cấp xã, ở thôn, tổ dân phố, Nghị định số 1212003NĐCP ngày 21 tháng 10 năm 2003 của Chính phủ về chế độ, chính sách đối với cán bộ, công chức xã, phường, thị trấn và Nghị định số 091998NĐCP ngày 23 tháng 01 năm 1998 của Chính phủ sửa đổi, bổ sung Nghị định 50CP ngày 26 tháng 7 năm 1995 của Chính phủ về chế độ sinh hoạt phí đối với cán bộ, phường, thị trấn.',\n",
       " 'summary': 'Đoạn văn bản này chứa thông tin về nguồn kinh phí thực hiện các chế độ lương hưu và trợ cấp bảo hiểm xã hội.',\n",
       " 'src': 'parsed_file/14_nghị_định_42_2023_hướng_dẫn_điều_chỉnh_lương_hưu,_trợ_cấp_BHXH.pdf',\n",
       " 'chapter': 'Chương I',\n",
       " 'page': 4}"
      ]
     },
     "execution_count": 89,
     "metadata": {},
     "output_type": "execute_result"
    }
   ],
   "source": [
    "documents[2]"
   ]
  },
  {
   "cell_type": "markdown",
   "metadata": {},
   "source": [
    "Cắt bảng"
   ]
  },
  {
   "cell_type": "code",
   "execution_count": 3,
   "metadata": {},
   "outputs": [],
   "source": [
    "def create_Form(file_path):\n",
    "    muc_luc = list()\n",
    "    documents = []\n",
    "    with open(file_path, 'r', encoding='utf-8') as file:\n",
    "        content = file.read()\n",
    "    pattern = r'(\\* Trang \\d+)(.*?)(?=\\* Trang \\d+|$)'\n",
    "    form_pattern = r\"#+\\s+.*Mẫu số.*\\s+\\d+[^\\n]+\"\n",
    "    table_pattern = r'\\*Begin table\\*.*?\\*End table\\*'\n",
    "    matches = re.findall(pattern, content, re.DOTALL)\n",
    "\n",
    "    pages = [match[0] + match[1] for match in matches]\n",
    "\n",
    "    cur_form = \" \"\n",
    "    for i, page in enumerate(pages, 1):\n",
    "        f_matches = re.findall(form_pattern, page)\n",
    "        for f in f_matches:\n",
    "\n",
    "            cur_form = f\n",
    "            muc_luc.append({\"object\": f, \"page\": i})\n",
    "\n",
    "        tables = re.findall(table_pattern, page, re.DOTALL)\n",
    "        for table in tables:\n",
    "            # print(table)\n",
    "            t_content = re.sub(r'\\* Trang \\d+', '', table)\n",
    "            t_content = re.sub(r'\\*Begin table\\*', ' ', t_content).strip()\n",
    "            t_content = re.sub(r'\\*End table\\*', ' ', t_content).strip()\n",
    "            documents.append({\"raw_text\": table, \"content\": t_content, \"summary\": _get_new_chunk_summary(t_content), \"src\": file_path.replace(\".md\", \".pdf\"), \"chapter\": cur_form, \"page\": i})\n",
    "\n",
    "\n",
    "    form_pattern = r\"(#\\s*\\**Mẫu số \\d+/PL[IVXLCDM]+\\**\\n.*?)(?=#\\s*\\**Mẫu số|\\Z)\"\n",
    "    forms = re.findall(form_pattern, content, re.DOTALL)\n",
    "    for form in forms:\n",
    "        # print(form)\n",
    "        f_content = re.sub(r'\\* Trang \\d+', '', form)\n",
    "        f_content = re.sub(r'[^\\w\\s.,;:|]', '', f_content)\n",
    "        f_content = re.sub(r'\\n+', ' ', f_content).strip()\n",
    "        for muc in muc_luc:\n",
    "            if form.find(muc[\"object\"]) != -1:\n",
    "                page_num = muc[\"page\"]\n",
    "                documents.append({\"raw_text\": form, \"content\": f_content, \"summary\": _get_new_chunk_summary(f_content), \"src\": file_path.replace(\".md\", \".pdf\"), \"chapter\": \"none\", \"page\": page_num})\n",
    "                break\n",
    "    return documents\n",
    "\n",
    "    "
   ]
  },
  {
   "cell_type": "code",
   "execution_count": 97,
   "metadata": {},
   "outputs": [],
   "source": [
    "documents = create_Form(\"parsed_file/8_Nghị_định_15_2020_về_lao_động_nước_ngoài_tại_VN.md\")"
   ]
  },
  {
   "cell_type": "code",
   "execution_count": 11,
   "metadata": {},
   "outputs": [
    {
     "name": "stdout",
     "output_type": "stream",
     "text": [
      "[('NGHỊ ĐỊNH  \\n', 'Điều chỉnh lương hưu, trợ cấp bảo hiểm xã hội và trợ cấp hằng tháng  ')]\n",
      "NGHỊ ĐỊNH Điều chỉnh lương hưu, trợ cấp bảo hiểm xã hội và trợ cấp hằng tháng\n"
     ]
    }
   ],
   "source": [
    "with open(\"parsed_file/14_nghị_định_42_2023_hướng_dẫn_điều_chỉnh_lương_hưu,_trợ_cấp_BHXH.md\", 'r', encoding='utf-8') as file:\n",
    "    content = file.read()\n",
    "\n",
    "import re\n",
    "pattern = r'Trang 1(.*?)(?=\\* Trang 2)'\n",
    "match = re.findall(pattern, content, re.DOTALL)[0]\n",
    "pattern__1 = [r'(BỘ LUẬT\\s*\\n)(.*)', r'(LUẬT\\s*\\n)(.*)', r'(NGHỊ ĐỊNH\\s*\\n)(.*)']\n",
    "text = re.findall(r'(NGHỊ ĐỊNH\\s*\\n)(.*)', match)\n",
    "# for p in pattern__1:\n",
    "#     text = re.findall(p, match)\n",
    "#     break\n",
    "print(text)\n",
    "ten_luat = text[0][0].strip() + \" \" + text[0][1].strip()\n",
    "print(ten_luat)"
   ]
  },
  {
   "cell_type": "code",
   "execution_count": 12,
   "metadata": {},
   "outputs": [],
   "source": [
    "import json\n",
    "with open(\"parsed_file/14_nghị_định_42_2023_hướng_dẫn_điều_chỉnh_lương_hưu,_trợ_cấp_BHXH.json\", 'r', encoding='utf-8') as json_file:\n",
    "    data = json.load(json_file)\n",
    "for d in data:\n",
    "    d[\"reference\"] = ten_luat\n",
    "\n",
    "with open('parsed_file/14_nghị_định_42_2023_hướng_dẫn_điều_chỉnh_lương_hưu,_trợ_cấp_BHXH.json', 'w', encoding='utf-8') as json_file:\n",
    "    json.dump(data, json_file, ensure_ascii=False, indent=4)"
   ]
  },
  {
   "cell_type": "code",
   "execution_count": 15,
   "metadata": {},
   "outputs": [],
   "source": [
    "raw = [\n",
    "    \"\"\"| Chỉ tiêu                                                                                                                                      | Đầu kỳ | Tăng trong kỳ | Giảm trong kỳ | Cuối kỳ | Số lao động tham gia bảo hiểm bắt buộc (người) | Ghi chú |\n",
    "|-----------------------------------------------------------------------------------------------------------------------------------------------|--------|---------------|---------------|---------|------------------------------------------------|---------|\n",
    "| 1. Tổng số lao động theo hợp đồng lao động của doanh nghiệp, trong đó:                                                                        |        |               |               |         |                                                |         |\n",
    "| a) Số lao động làm việc tại doanh nghiệp cho thuê lại, chia ra:                                                                     |        |               |               |         |                                                |         |\n",
    "| - Số lao động có hợp đồng lao động không xác định thời hạn                                                                                   |        |               |               |         |                                                |         |\n",
    "| - Số lao động có hợp đồng lao động xác định thời hạn                                                                                         |        |               |               |         |                                                |         |\n",
    "| b) Số lao động cho thuê lại, chia ra:                                                                                                        |        |               |               |         |                                                |         |\n",
    "| - Thời hạn cho thuê lại dưới 03 tháng                                                                                                        |        |               |               |         |                                                |         |\n",
    "| - Thời hạn cho thuê lại từ 03 tháng đến dưới 06 tháng                                                                                        |        |               |               |         |                                                |         |\n",
    "| - Thời hạn cho thuê lại từ 06 tháng đến 12 tháng                                                                                             |        |               |               |         |                                                |         |\n",
    "| 2. Số lao động đang cho thuê lại của doanh nghiệp                                                                                            |        |               |               |         |                                                |         |\n",
    "| - Trong địa bàn tỉnh                                                                                                                         |        |               |               |         |                                                |         |\n",
    "| - Ngoài địa bàn tỉnh                                                                                                                         |        |               |               |         |                                                |         |\"\"\",\n",
    "    \"\"\"| TT | Công việc cho thuê lại | Số doanh nghiệp được cấp giấy phép cho thuê lại lao động (1) | Số lao động cho thuê lại (người) | Số lao động theo thời hạn cho thuê lại lao động (người) | Các chế độ của người lao động cho thuê lại | Số lao động thuê lại tham gia bảo hiểm bắt buộc (người) (7) | Ghi chú |\n",
    "|----|-----------------------|--------------------------------------|-----------------------------|------------------------------------------|-------------------------------|---------------------------------|--------|\n",
    "|    |                       | Trong địa bàn tỉnh | Ngoài địa bàn tỉnh | Của doanh nghiệp trong địa bàn tỉnh | Của doanh nghiệp ngoài địa bàn tỉnh | Dưới 6 tháng | Từ 6 - 12 tháng | Khác | Tiền lương bình quân (đồng/người/tháng) | Thu nhập bình quân (đồng/người/tháng) | Chế độ phúc lợi |                                  |        |\n",
    "| 1  |                       | 2                                | 3                              | 4                                                      | 5                                                       | 6                | 7                | 8    | 9                                          | 10                | 11                        | 12                                    | 13             | 14     |\n",
    "| 1  |                       |                                    |                               |                                                        |                                                         |                  |                  |      |                                            |                    |                            |                                        |                |        |\n",
    "| 2  |                       |                                    |                               |                                                        |                                                         |                  |                  |      |                                            |                    |                            |                                        |                |        |\"\"\",\n",
    "    \"\"\"Appendix 3: EVPC - Hazardous Work and Special Hazardous Works\n",
    "\n",
    "| Mechanical, Metallurgy (Reference number) | Occupation or work                                                                        | Working conditions                                                                                                   | Working conditions class | Applies in EVPC practical conditions       |\n",
    "|-------------------------------------------|-------------------------------------------------------------------------------------------|----------------------------------------------------------------------------------------------------------------------|--------------------------|-------------------------------------------|\n",
    "|                                           |                                                                                           |                                                                                                                      |                          | Main occupational (*1)                       | Concurrent (*2)       |\n",
    "| 31                                        | Metal Melting                                                                             | Công việc nặng nhọc, nguy hiểm, chịu tác động của nóng và hơi khí độc.<br>Under the impact of heat and toxic gases. | V                        | Nhóm nấu luyện<br>Melting Group             |                         |\n",
    "| 40                                        | Foundry work and rolling, metal shaping                                                   | Công việc nặng nhọc, rất nguy hiểm, chịu tác động của nóng, bụi, hơi khí độc.<br>Under the impact of heat, toxic gases.| V                        | Nhóm Hoàn thiện<br>Molding Group            |                         |\n",
    "| 72                                        | Cleaning cast works                                                                       | Làm việc trong nhà đúc, chịu tác động của nóng, rung, tiếng ồn, bụi độc.<br>Heat, noise and dust.                     | IV                       | Nhóm Lắp ráp AT2<br>Assembly AT2 (sandblasting)<br>Nhóm hoàn thiện Fetling Group |                         |\n",
    "| 80                                        | Spraying paint, method of thermal hot melting                                             | Tiếp xúc với hóa chất độc hại, thường xuyên tiếp xúc với nước có nhiệt độ cao.<br>Exposed to thermal hot chemicals often.| IV                       | Nhóm Lắp ráp AT2<br>Assembly Group/ AT2     |                         |\n",
    "| 53                                        | Metal Casting                                                                             | Tiếp xúc với nhôm lỏng và kim loại, rung và ồn.<br>Heat, metal dust, vibration and noise.                             | IV                       | Lắp ráp tại AT3<br>Assembly AT3 (W. GR)    |                         |\n",
    "| 98                                        | Welding, Steam welding                                                                    | Chịu tác động của hơi khí độc.<br>Exposed to toxic gases.                                                             | IV                       | Nhóm gò hàn ren<br>Fabrication Group       |                         |\n",
    "| 61                                        | Operate metal punching machines                                                           | Heat, noise, vibration, visual stress.                                                                               | IV                       | Fabrication<br>(Thanh & Cuong)             |                         |\n",
    "| 16                                        | Operating forklifts for store (not containers)                                            | Môi trường bụi, ồn, cường độ lao động khẩn trương<br>Working in dusty, noisy environment.                            | IV                       | Ware house team excluding Ms. Dung & Ms. Loan |                         |\n",
    "| 62                                        | Operating cranes in casting factory                                                       | Nóng, bụi, căng thẳng thần kinh, tâm lý<br>Heat, dust, noxious gases                                                 | IV                       | Nhóm vận hành cẩu trục (Kho)<br>Crane team of Warehouse |                         |\n",
    "| 118                                       | Burning and operating other annealing furnaces                                            | Công việc nặng nhọc, thường xuyên chịu tác động của nhiệt độ cao, CO và CO2.<br>Handling heat and gases.             | IV                       | Support by<br>Fettling Group               |                         |\n",
    "| 131                                       | Drilling, tapping and turning cast iron                                                   | Bụi, căng thẳng thị giác, tập trung chú ý cao<br>Dust, visual stress, high concentration of attention..              | IV                       | Machining Group                            |                         |\n",
    "| 23                                        | Working with industrial machines while performing mechanical therapy in PMT, PT and XRT in MT | Tiếp xúc với hóa chất độc hại, chịu tác động của cực tím, tia bức xạ<br>Contact with toxic substances, UV, radiation. | IV                       | Inspection Group                           |                         |\n",
    "\n",
    "Noted:\n",
    "1. The name of the occupation will be recorded in the Social insurance book and apply the annual paid leave regime for staff working under Hazardous conditions.\n",
    "2. Apply the same regime as employees working in normal conditions.\"\"\",\n",
    "    \"\"\"| **Chỉ tiêu**                                                            | **Số doanh nghiệp** | **Loại hình doanh nghiệp** |                          |                                |                                | **Tổng số lao động sử dụng** |                                 |                              | **Số lượng doanh nghiệp thuê lại lao động** |                    |                       | **Ghi chú** |\n",
    "|:----------------------------------------------------------------------|:-------------------:|:--------------------------:|:------------------------:|:------------------------------:|:------------------------------:|:-----------------------------:|:-------------------------------:|:----------------------------:|:------------------------------------------:|:------------------:|:---------------------:|:---------:|\n",
    "|                                                                       |                     | **Doanh nghiệp nhà nước**  | **Doanh nghiệp tư nhân** | **Doanh nghiệp có vốn đầu tư nước ngoài** |                                | **Số lao động làm việc tại doanh nghiệp cho thuê lại** | **Số lao động cho thuê lại (người)** |                              | **Trong địa bàn tỉnh**                         | **Ngoài địa bàn tỉnh** |                       |           |\n",
    "| 1. Số doanh nghiệp đã được cấp phép đầu kỳ báo cáo                    |                     |                            |                          |                                  |                                |                               |                                 |                              |                                            |                    |                       |           |\n",
    "| 2. Số doanh nghiệp được cấp giấy phép lần đầu trong kỳ báo cáo       |                     |                            |                          |                                  |                                |                               |                                 |                              |                                            |                    |                       |           |\n",
    "| 3. Số doanh nghiệp được gia hạn giấy phép                            |                     |                            |                          |                                  |                                |                               |                                 |                              |                                            |                    |                       |           |\n",
    "| 4. Số doanh nghiệp cấp lại giấy phép                                 |                     |                            |                          |                                  |                                |                               |                                 |                              |                                            |                    |                       |           |\n",
    "| 5. Tổng số doanh nghiệp giảm trong kỳ báo cáo, trong đó:             |                     |                            |                          |                                  |                                |                               |                                 |                              |                                            |                    |                       |           |\n",
    "| - Doanh nghiệp hết hạn giấy phép mà không được gia hạn, cấp lại       |                     |                            |                          |                                  |                                |                               |                                 |                              |                                            |                    |                       |           |\n",
    "| - Doanh nghiệp bị thu hồi giấy phép                                  |                     |                            |                          |                                  |                                |                               |                                 |                              |                                            |                    |                       |           |\n",
    "| 6. Số doanh nghiệp có giấy phép đang hoạt động cuối kỳ               |                     |                            |                          |                                  |                                |                               |                                 |                              |                                            |                    |                       |           |\"\"\",\n",
    "    \"\"\"| STT | Họ tên | Mã số BHXH | Ngày tháng năm sinh | Giới tính | Số CCCD/CMND/Hộ chiếu | Cấp bậc, chức vụ, chức danh nghề, nơi làm việc | Nhà quản lý | Chuyên môn kỹ thuật bậc cao | Chuyên môn kỹ thuật bậc trung | Khác | Hệ số/Bậc lương | Chức vụ | Thâm niên VK | Thu hút | Lưu động | Ngành nghề | Khu vực | Khoán | Phụ cấp lương bổ sung | Ngành/nghề nặng nhọc, độc hại | Ngày bắt đầu HĐLD xác định thời hạn | Ngày kết thúc HĐLD xác định thời hạn | Ngày bắt đầu HĐLD không xác định thời hạn | Ngày kết thúc HĐLD không xác định thời hạn | Hiệu lực HĐLD khác (dưới 1 tháng, thử việc) | Thời điểm đơn vị bắt đầu đóng BHXH | Thời điểm đơn vị kết thúc đóng BHXH | Ghi chú |\n",
    "|-----|--------|-----------|---------------------|-----------|-----------------------|---------------------------------------------|-------------|--------------------------|--------------------------|------|-----------------|--------|------------|--------|----------|------------|---------|--------|-----------------------|-----------------------------------|---------------------------------|-------------------------------|--------------------------------------|-------------------------------------|--------------------------------------|---------------------------------|---------------|\n",
    "| 1   |        |           |                     |           |                       |                                             |             |                          |                          |      |                 |        |            |        |          |            |         |        |                       |                                   |                                 |                               |                                      |                                     |                                      |                                 |               |\n",
    "| ... |        |           |                     |           |                       |                                             |             |                          |                          |      |                 |        |            |        |          |            |         |        |                       |                                   |                                 |                               |                                      |                                     |                                      |                                 |               |\n",
    "| Tổng|        |           |                     |           |                       |                                             |             |                          |                          |      |                 |        |            |        |          |            |         |        |                       |                                   |                                 |                               |                                      |                                     |                                      |                                 |               |\"\"\",\n",
    "    \"\"\"| STT | Người sử dụng lao động | Tổng | Lao động nữ | Lao động trên 35 tuổi | Số lao động tham gia BHXH bắt buộc | Nhà quản lý | Chuyên môn kỹ thuật bậc cao | Chuyên môn kỹ thuật bậc trung | Khác | Số lao động tham gia HĐLĐ không xác định thời hạn | Số lao động tham gia HĐLĐ xác định thời hạn | Số lao động tham gia HĐLĐ khác (dưới 1 tháng, thử việc) | Ghi chú |\n",
    "|-----|------------------------|------|-------------|-----------------------|-----------------------------------|-------------|---------------------------|---------------------------|-------|-------------------------------------------|----------------------------------------|----------------------------------------------|---------|\n",
    "| 1   | Doanh nghiệp           |      |             |                       |                                   |             |                           |                           |       |                                           |                                        |                                              |         |\n",
    "| 2   | Hợp tác xã             |      |             |                       |                                   |             |                           |                           |       |                                           |                                        |                                              |         |\n",
    "| 3   | Cơ quan, tổ chức       |      |             |                       |                                   |             |                           |                           |       |                                           |                                        |                                              |         |\n",
    "| Tổng|                        |      |             |                       |                                   |             |                           |                           |       |                                           |                                        |                                              |         |\n",
    "\n",
    "Ghi chú:\n",
    "- (1): Bộ Lao động - Thương binh và Xã hội.\n",
    "- (2): Vị trí việc làm phân loại theo:\n",
    "  - Cột (7) Nhà quản lý: Nhóm này bao gồm những nhà lãnh đạo, quản lý làm việc trong các ngành, các cấp và trong các cơ quan, tổ chức, doanh nghiệp có giữ các chức vụ, có quyền quản lý, chỉ huy, điều hành từ trung ương tới cấp xã;\n",
    "  - Cột (8) Chuyên môn kỹ thuật bậc cao: Nhóm này bao gồm những nghề đòi hỏi phải có kiến thức chuyên môn, nghiệp vụ và kinh nghiệm ở trình độ cao (đại học trở lên) trong lĩnh vực khoa học và kỹ thuật, sức khỏe, giáo dục, kinh doanh và quản lý, công nghệ thông tin và truyền thông, luật pháp, văn hóa, xã hội;\n",
    "  - Cột (9) Chuyên môn kỹ thuật bậc trung: Nhóm này bao gồm những nghề đòi hỏi kiến thức và kinh nghiệm ở trình độ bậc trung (cao đẳng, trung cấp) về các lĩnh vực khoa học và kỹ thuật, sức khỏe, kinh doanh và quản lý, luật pháp, văn hóa, xã hội, thông tin và truyền thông, giáo viên, giáo dục, công nghệ thông tin.\"\"\",\n",
    "  \"\"\"VĂN BẢN THỎA THUẬN LÀM THÊM GIỜ\n",
    "\n",
    "- Thời gian làm thêm: Kể từ ngày ........ đến ngày ...... tháng .... năm ......\n",
    "- Địa điểm làm thêm: ...............................................................\n",
    "- Lý do làm thêm: .................................................................\n",
    "\n",
    "| STT | Họ tên | Nghề, công việc đang làm (2) | Số giờ làm việc trong ngày (2) | Số giờ làm thêm (trong ngày, tuần, ...) (3) | Chữ ký của người lao động |\n",
    "|-----|--------|------------------------------|------------------------------|------------------------------------------|----------------------------------|\n",
    "| 1   |        |                              |                              |                                          |                                  |\n",
    "| 2   |        |                              |                              |                                          |                                  |\n",
    "| 3   |        |                              |                              |                                          |                                  |\n",
    "| 4   |        |                              |                              |                                          |                                  |\n",
    "\n",
    "### Ghi chú:\n",
    "1. Mẫu này lập khi ký văn bản với nhiều người lao động; trường hợp ký riêng từng người lao động thì điều chỉnh các thông tin tương ứng.\n",
    "2. Trường hợp đã sử dụng bảng chấm công và công việc, giờ làm việc không thay đổi trong nhiều ngày, nhiều tháng đã ghi trong bảng chấm công thì không bắt buộc có các cột này trong bản thỏa thuận.\n",
    "3. Có thể ghi thỏa thuận riêng theo từng ngày hoặc theo tuần, theo tháng hoặc thỏa thuận kết hợp nhiều nội dung về thời giờ làm thêm.\"\"\",\n",
    "    \"\"\"I. TÌNH HÌNH TUYỂN DỤNG NGƯỜI LAO ĐỘNG VIỆT NAM TRONG NĂM...\n",
    "\n",
    "| STT | Họ và tên | Năm sinh | Trình độ chuyên môn kỹ thuật cao nhất | Vị trí việc làm | Tuyển trực tiếp | Tổ chức dịch vụ việc làm | Doanh nghiệp cho thuê lại lao động | Tuyển thông qua tổ chức có thẩm quyền tuyển, quản lý người lao động Việt Nam |\n",
    "|-----|-----------|----------|--------------------------------------|-----------------|----------------|--------------------------|---------------------------------|--------------------------------------------------------------------------------|\n",
    "| 1   |           |          |                                      |                 |                |                          |                                 |                                                                                |\n",
    "| 2   |           |          |                                      |                 |                |                          |                                 |                                                                                |\"\"\"\n",
    "]\n",
    "\n",
    "\n",
    "# page = [5, 5, 6, 6, \"\"]\n",
    "import json\n",
    "with open(\"parsed_file/law_2. Tai lieu Khach hang cung cap_5. Salary Regulation 2024 (V).json\", 'r', encoding='utf-8') as json_file:\n",
    "    data = json.load(json_file)\n",
    "for i in range(15, -1):\n",
    "    data[i][\"content\"] = data[i][\"content\"].strip()\n",
    "\n",
    "with open('parsed_file/law_2. Tai lieu Khach hang cung cap_5. Salary Regulation 2024 (V).json', 'w', encoding='utf-8') as json_file:\n",
    "    json.dump(data, json_file, ensure_ascii=False, indent=4)"
   ]
  },
  {
   "cell_type": "code",
   "execution_count": 98,
   "metadata": {},
   "outputs": [
    {
     "data": {
      "text/plain": [
       "27"
      ]
     },
     "execution_count": 98,
     "metadata": {},
     "output_type": "execute_result"
    }
   ],
   "source": [
    "len(documents)"
   ]
  },
  {
   "cell_type": "code",
   "execution_count": 100,
   "metadata": {},
   "outputs": [
    {
     "data": {
      "text/plain": [
       "{'raw_text': '# **Mẫu số 02/PLI**\\n\\n**TÊN DOANH NGHIỆP/TỔ CHỨC**  \\nCỘNG HÒA XÃ HỘI CHỦ NGHĨA VIỆT NAM  \\nĐộc lập - Tự do - Hạnh phúc  \\nSố: .........  \\nV/v giải trình thay đổi nhu cầu sử dụng người lao động nước ngoài  \\n.........., ngày....tháng....năm.....  \\n\\nKính gửi: .............. (1) ..............  \\n\\nCăn cứ vào văn bản số... (ngày/tháng/năm) của... (2) về việc thông báo chấp thuận vị trí công việc sử dụng người lao động nước ngoài và nhu cầu thực tế của (tên doanh nghiệp/tổ chức).  \\n\\nThông tin về doanh nghiệp/tổ chức: tên doanh nghiệp/tổ chức, loại hình doanh nghiệp/tổ chức, tổng số lao động đang làm việc tại doanh nghiệp/tổ chức, trong đó số lao động nước ngoài đang làm việc, địa chỉ, điện thoại, fax, email, website, thời hạn của giấy phép kinh doanh/hoạt động, lĩnh vực kinh doanh/hoạt động, người nộp hồ sơ của doanh nghiệp/tổ chức có liên hệ khi cần thiết (số điện thoại, email).  \\n\\nBáo cáo giải trình thay đổi nhu cầu sử dụng người lao động nước ngoài như sau:  \\n\\n1. Vị trí công việc (nhà quản lý/giám đốc điều hành/chuyên gia/lao động kỹ thuật), số lượng (người), chức danh công việc, thời hạn làm việc từ (ngày/tháng/năm) đến (ngày/tháng/năm), hình thức làm việc, địa điểm làm việc đã được chấp thuận:  \\n   \\n2. Vị trí công việc (nhà quản lý/giám đốc điều hành/chuyên gia/lao động kỹ thuật), số lượng (người), chức danh công việc, thời hạn làm việc từ (ngày/tháng/năm) đến (ngày/tháng/năm), hình thức làm việc, địa điểm làm việc đã sử dụng (nếu có); lý do vị trí công việc đã được chấp thuận nhưng không sử dụng (nếu có) ............  \\n\\n3. Vị trí công việc (nhà quản lý/giám đốc điều hành/chuyên gia/lao động kỹ thuật), số lượng (người), chức danh công việc, thời hạn làm việc từ (ngày/tháng/năm) đến (ngày/tháng/năm), hình thức làm việc, địa điểm làm việc, lý do sử dụng người lao động nước ngoài (có nhu cầu thay đổi, nếu có)....  \\n\\nĐề nghị .... (3) xem xét, thẩm định và chấp thuận.  \\n\\nXin chân trọng cảm ơn!  \\n\\n**Nơi nhận:**  \\n- Như trên;  \\n- Lưu:........  \\n\\nGhi chú: (1), (2), (3) Bộ Lao động - Thương binh và Xã hội (Cục Việc làm) Ủy ban nhân dân tỉnh, thành phố...\\n\\n* Trang 30\\n\\n# CỘNG HÒA XÃ HỘI CHỦ NGHĨA VIỆT NAM\\n## Độc lập - Tự do - Hạnh phúc\\n\\n*Begin table*\\n**Mẫu số 03/PLI**\\n\\nSố:..............  \\nV/v chấp thuận vị trí công việc sử dụng người lao động nước ngoài \\n\\nKính gửi: (Tên doanh nghiệp/tổ chức)\\n\\nTheo đề nghị tại văn bản số… (ngày/tháng/năm) của (tên doanh nghiệp/tổ chức) và ý kiến chấp thuận của Ủy ban nhân dân tỉnh/thành phố………………(nếu có),… (2) thông báo về những vị trí công việc mà (tên doanh nghiệp/tổ chức) được sử dụng người lao động nước ngoài như sau:\\n\\n# I. VỊ TRÍ CÔNG VIỆC ĐƯỢC CHẤP THUẬN\\n1. Vị trí công việc (nhà quản lý/giám đốc điều hành/chuyển gia/lao động kỹ thuật); chức danh công việc; số lượng (người); thời hạn làm việc từ (ngày/tháng/năm) đến (ngày/tháng/năm), hình thức làm việc, địa điểm làm việc.\\n\\n2. Vị trí công việc (nếu có) (nhà quản lý/giám đốc điều hành/chuyển gia/lao động kỹ thuật); chức danh công việc; số lượng người; thời hạn làm việc từ (ngày/tháng/năm) đến (ngày/tháng/năm), hình thức làm việc, địa điểm làm việc.\\n\\n# II. VỊ TRÍ CÔNG VIỆC KHÔNG ĐƯỢC CHẤP THUẬN\\n1. Vị trí công việc (nhà quản lý/giám đốc điều hành/chuyển gia/lao động kỹ thuật); chức danh công việc; số lượng (người): .....................................................\\n\\nLý do: ...............................................................................................\\n\\n2. Vị trí công việc (nếu có) (nhà quản lý/giám đốc điều hành/chuyển gia/lao động kỹ thuật); chức danh công việc; số lượng (người): .................\\n\\nLý do: ...............................................................................................\\n\\n(Tên doanh nghiệp/tổ chức) có trách nhiệm thực hiện đúng các quy định của pháp luật về người lao động nước ngoài làm việc tại Việt Nam./\\n\\n(Ký và ghi rõ họ tên, đóng dấu)\\n\\nGhi chú:  \\n(1), (2) Bộ Lao động - Thương binh và Xã hội (Cục Việc làm)/Ủy ban nhân dân tỉnh, thành phố….  \\n(3) Cục trưởng/Chỉ tịch UBND cấp tỉnh.\\n*End table*\\n\\n* Trang 31\\n\\n# TÊN NHÀ THẦU \\nCỘNG HÒA XÃ HỘI CHỦ NGHĨA VIỆT NAM  \\nĐộc lập - Tự do - Hạnh phúc  \\nSố: ............  \\nV/v đề nghị tuyển người lao động Việt Nam vào các vị trí công việc dự kiến tuyển người lao động nước ngoài\\n\\nKính gửi: Chủ tịch Ủy ban nhân dân tỉnh/thành phố...\\n\\nThông tin về nhà thầu gồm: tên nhà thầu, địa chỉ đăng ký tại nước hoặc vùng lãnh thổ nơi nhà thầu mang quốc tịch, số điện thoại, fax, email, website, giấy phép thầu, địa chỉ chi nhánh, văn phòng đại diện hoặc văn phòng điều hành tại Việt Nam, giấy phép thầu, thời gian thực hiện gói thầu.\\n\\nĐể thực hiện gói thầu.............................., nhà thầu đề nghị tuyển người lao động Việt Nam vào các vị trí công việc dự kiến tuyển người lao động nước ngoài như sau:\\n\\n(Trong cụ thể từng vị trí công việc (nhà quản lý/giám đốc điều hành/chuyên gia/ lao động kỹ thuật), chức danh công việc, số lượng (người), trình độ chuyên môn, kinh nghiệm, mức lương, địa điểm, thời gian làm việc từ (ngày/tháng/năm) đến (ngày/tháng/năm).\\n\\nĐề nghị Chủ tịch Ủy ban nhân dân tỉnh/thành phố............................ chỉ đạo các cơ quan, tổ chức có liên quan giới thiệu, cung ứng người lao động Việt Nam cho .............. theo các vị trí công việc nêu trên.\\n\\nTrân trọng cảm ơn!\\n\\nNơi nhận:  \\n- Như trên;  \\n- Lưu:..........\\n\\n# ĐẠI DIỆN NHÀ THẦU  \\n(Ký và ghi rõ họ tên, đóng dấu)\\n\\n* Trang 32\\n\\n',\n",
       " 'content': 'Mẫu số 02PLI TÊN DOANH NGHIỆPTỔ CHỨC   CỘNG HÒA XÃ HỘI CHỦ NGHĨA VIỆT NAM   Độc lập  Tự do  Hạnh phúc   Số: .........   Vv giải trình thay đổi nhu cầu sử dụng người lao động nước ngoài   .........., ngày....tháng....năm.....   Kính gửi: .............. 1 ..............   Căn cứ vào văn bản số... ngàythángnăm của... 2 về việc thông báo chấp thuận vị trí công việc sử dụng người lao động nước ngoài và nhu cầu thực tế của tên doanh nghiệptổ chức.   Thông tin về doanh nghiệptổ chức: tên doanh nghiệptổ chức, loại hình doanh nghiệptổ chức, tổng số lao động đang làm việc tại doanh nghiệptổ chức, trong đó số lao động nước ngoài đang làm việc, địa chỉ, điện thoại, fax, email, website, thời hạn của giấy phép kinh doanhhoạt động, lĩnh vực kinh doanhhoạt động, người nộp hồ sơ của doanh nghiệptổ chức có liên hệ khi cần thiết số điện thoại, email.   Báo cáo giải trình thay đổi nhu cầu sử dụng người lao động nước ngoài như sau:   1. Vị trí công việc nhà quản lýgiám đốc điều hànhchuyên gialao động kỹ thuật, số lượng người, chức danh công việc, thời hạn làm việc từ ngàythángnăm đến ngàythángnăm, hình thức làm việc, địa điểm làm việc đã được chấp thuận:       2. Vị trí công việc nhà quản lýgiám đốc điều hànhchuyên gialao động kỹ thuật, số lượng người, chức danh công việc, thời hạn làm việc từ ngàythángnăm đến ngàythángnăm, hình thức làm việc, địa điểm làm việc đã sử dụng nếu có; lý do vị trí công việc đã được chấp thuận nhưng không sử dụng nếu có ............   3. Vị trí công việc nhà quản lýgiám đốc điều hànhchuyên gialao động kỹ thuật, số lượng người, chức danh công việc, thời hạn làm việc từ ngàythángnăm đến ngàythángnăm, hình thức làm việc, địa điểm làm việc, lý do sử dụng người lao động nước ngoài có nhu cầu thay đổi, nếu có....   Đề nghị .... 3 xem xét, thẩm định và chấp thuận.   Xin chân trọng cảm ơn   Nơi nhận:    Như trên;    Lưu:........   Ghi chú: 1, 2, 3 Bộ Lao động  Thương binh và Xã hội Cục Việc làm Ủy ban nhân dân tỉnh, thành phố...  CỘNG HÒA XÃ HỘI CHỦ NGHĨA VIỆT NAM  Độc lập  Tự do  Hạnh phúc Begin table Mẫu số 03PLI Số:..............   Vv chấp thuận vị trí công việc sử dụng người lao động nước ngoài  Kính gửi: Tên doanh nghiệptổ chức Theo đề nghị tại văn bản số ngàythángnăm của tên doanh nghiệptổ chức và ý kiến chấp thuận của Ủy ban nhân dân tỉnhthành phốnếu có, 2 thông báo về những vị trí công việc mà tên doanh nghiệptổ chức được sử dụng người lao động nước ngoài như sau:  I. VỊ TRÍ CÔNG VIỆC ĐƯỢC CHẤP THUẬN 1. Vị trí công việc nhà quản lýgiám đốc điều hànhchuyển gialao động kỹ thuật; chức danh công việc; số lượng người; thời hạn làm việc từ ngàythángnăm đến ngàythángnăm, hình thức làm việc, địa điểm làm việc. 2. Vị trí công việc nếu có nhà quản lýgiám đốc điều hànhchuyển gialao động kỹ thuật; chức danh công việc; số lượng người; thời hạn làm việc từ ngàythángnăm đến ngàythángnăm, hình thức làm việc, địa điểm làm việc.  II. VỊ TRÍ CÔNG VIỆC KHÔNG ĐƯỢC CHẤP THUẬN 1. Vị trí công việc nhà quản lýgiám đốc điều hànhchuyển gialao động kỹ thuật; chức danh công việc; số lượng người: ..................................................... Lý do: ............................................................................................... 2. Vị trí công việc nếu có nhà quản lýgiám đốc điều hànhchuyển gialao động kỹ thuật; chức danh công việc; số lượng người: ................. Lý do: ............................................................................................... Tên doanh nghiệptổ chức có trách nhiệm thực hiện đúng các quy định của pháp luật về người lao động nước ngoài làm việc tại Việt Nam. Ký và ghi rõ họ tên, đóng dấu Ghi chú:   1, 2 Bộ Lao động  Thương binh và Xã hội Cục Việc làmỦy ban nhân dân tỉnh, thành phố.   3 Cục trưởngChỉ tịch UBND cấp tỉnh. End table  TÊN NHÀ THẦU  CỘNG HÒA XÃ HỘI CHỦ NGHĨA VIỆT NAM   Độc lập  Tự do  Hạnh phúc   Số: ............   Vv đề nghị tuyển người lao động Việt Nam vào các vị trí công việc dự kiến tuyển người lao động nước ngoài Kính gửi: Chủ tịch Ủy ban nhân dân tỉnhthành phố... Thông tin về nhà thầu gồm: tên nhà thầu, địa chỉ đăng ký tại nước hoặc vùng lãnh thổ nơi nhà thầu mang quốc tịch, số điện thoại, fax, email, website, giấy phép thầu, địa chỉ chi nhánh, văn phòng đại diện hoặc văn phòng điều hành tại Việt Nam, giấy phép thầu, thời gian thực hiện gói thầu. Để thực hiện gói thầu.............................., nhà thầu đề nghị tuyển người lao động Việt Nam vào các vị trí công việc dự kiến tuyển người lao động nước ngoài như sau: Trong cụ thể từng vị trí công việc nhà quản lýgiám đốc điều hànhchuyên gia lao động kỹ thuật, chức danh công việc, số lượng người, trình độ chuyên môn, kinh nghiệm, mức lương, địa điểm, thời gian làm việc từ ngàythángnăm đến ngàythángnăm. Đề nghị Chủ tịch Ủy ban nhân dân tỉnhthành phố............................ chỉ đạo các cơ quan, tổ chức có liên quan giới thiệu, cung ứng người lao động Việt Nam cho .............. theo các vị trí công việc nêu trên. Trân trọng cảm ơn Nơi nhận:    Như trên;    Lưu:..........  ĐẠI DIỆN NHÀ THẦU   Ký và ghi rõ họ tên, đóng dấu',\n",
       " 'summary': 'Đoạn văn bản này chứa thông tin về việc sử dụng và tuyển dụng lao động nước ngoài và lao động Việt Nam trong các vị trí công việc tại doanh nghiệp.',\n",
       " 'src': 'parsed_file/8_Nghị_định_15_2020_về_lao_động_nước_ngoài_tại_VN.pdf',\n",
       " 'chapter': 'none',\n",
       " 'page': 29}"
      ]
     },
     "execution_count": 100,
     "metadata": {},
     "output_type": "execute_result"
    }
   ],
   "source": [
    "documents[19]"
   ]
  },
  {
   "cell_type": "code",
   "execution_count": 2,
   "metadata": {},
   "outputs": [],
   "source": [
    "from llama_index.embeddings.text_embeddings_inference import TextEmbeddingsInference\n",
    "\n",
    "TEI_URL=\"http://localhost:5555\"\n",
    "MODEL_NAME = \"bkai/bge-m3\"\n",
    "embed_model = TextEmbeddingsInference(model_name=MODEL_NAME,\n",
    "                                      base_url=TEI_URL)"
   ]
  },
  {
   "cell_type": "code",
   "execution_count": 1,
   "metadata": {},
   "outputs": [],
   "source": [
    "from importlib.metadata import version, PackageNotFoundError"
   ]
  },
  {
   "cell_type": "code",
   "execution_count": 2,
   "metadata": {},
   "outputs": [
    {
     "data": {
      "text/plain": [
       "'3.26.6'"
      ]
     },
     "execution_count": 2,
     "metadata": {},
     "output_type": "execute_result"
    }
   ],
   "source": [
    "__version__ = version(\"weaviate-client\")\n",
    "__version__"
   ]
  },
  {
   "cell_type": "code",
   "execution_count": 1,
   "metadata": {},
   "outputs": [
    {
     "name": "stderr",
     "output_type": "stream",
     "text": [
      "/mnt/annd/.conda/annd/lib/python3.10/site-packages/weaviate/warnings.py:121: DeprecationWarning: Dep005: You are using weaviate-client version 3.26.6. The latest version is 4.8.0.\n",
      "            Please consider upgrading to the latest version. See https://weaviate.io/developers/weaviate/client-libraries/python for details.\n",
      "  warnings.warn(\n"
     ]
    }
   ],
   "source": [
    "import weaviate\n",
    "cluster_url = \"http://localhost:9090\"\n",
    "client = weaviate.Client(cluster_url)"
   ]
  },
  {
   "cell_type": "code",
   "execution_count": 5,
   "metadata": {},
   "outputs": [],
   "source": [
    "abc = client.schema.get(class_name=\"DocumentLaw\")\n"
   ]
  },
  {
   "cell_type": "code",
   "execution_count": null,
   "metadata": {},
   "outputs": [],
   "source": [
    "client.batch.delete_objects()"
   ]
  },
  {
   "cell_type": "code",
   "execution_count": null,
   "metadata": {},
   "outputs": [],
   "source": []
  },
  {
   "cell_type": "code",
   "execution_count": null,
   "metadata": {},
   "outputs": [],
   "source": []
  },
  {
   "cell_type": "code",
   "execution_count": 5,
   "metadata": {},
   "outputs": [],
   "source": [
    "client.schema.delete_class('DocumentLaw')"
   ]
  },
  {
   "cell_type": "code",
   "execution_count": 7,
   "metadata": {},
   "outputs": [],
   "source": [
    "from llama_index.vector_stores.weaviate import WeaviateVectorStore"
   ]
  },
  {
   "cell_type": "code",
   "execution_count": 8,
   "metadata": {},
   "outputs": [],
   "source": [
    "vector_store = WeaviateVectorStore(\n",
    "    weaviate_client=client, index_name=\"DocumentLaw\"\n",
    ")"
   ]
  },
  {
   "cell_type": "code",
   "execution_count": 9,
   "metadata": {},
   "outputs": [],
   "source": [
    "from llama_index.core import StorageContext, VectorStoreIndex\n",
    "storage_context = StorageContext.from_defaults(vector_store=vector_store)"
   ]
  },
  {
   "cell_type": "code",
   "execution_count": 10,
   "metadata": {},
   "outputs": [],
   "source": [
    "import os\n",
    "import json\n",
    "\n",
    "def merge_json(folder_path):\n",
    "    merged_data = []\n",
    "\n",
    "    for filename in os.listdir(folder_path):\n",
    "        if filename.endswith('.json'):\n",
    "            file_path = os.path.join(folder_path, filename)\n",
    "            with open(file_path, 'r', encoding=\"utf-8\") as json_file:\n",
    "                data = json.load(json_file)\n",
    "                if isinstance(data, list):\n",
    "                    merged_data.extend(data)\n",
    "\n",
    "    return merged_data\n",
    "\n",
    "folder_path = \"parsed_file\"\n",
    "merged_array = merge_json(folder_path=folder_path)\n"
   ]
  },
  {
   "cell_type": "code",
   "execution_count": 12,
   "metadata": {},
   "outputs": [
    {
     "data": {
      "text/plain": [
       "{'raw_text': '### Điều 2. Đối tượng áp dụng  \\n1. Người lao động, người sử dụng lao động thuộc đối tượng bắt buộc tham gia bảo hiểm thất nghiệp theo quy định tại Điều 43 Luật Việc làm.  \\n2. Người lao động là người quản lý doanh nghiệp, quản lý hợp tác xã hưởng tiền lương và có tham gia bảo hiểm xã hội bắt buộc theo quy định của pháp luật về bảo hiểm xã hội.  \\n3. Tổ chức bảo hiểm xã hội, Sở Lao động - Thương bình và Xã hội tỉnh, thành phố trực thuộc Trung ương (sau đây viết tắt là Sở Lao động - Thương bình và Xã hội), trung tâm dịch vụ việc làm do cơ quan quản lý nhà nước về việc làm thành lập được giao các nhiệm vụ theo quy định tại Khoản 2 Điều 38 Luật Việc làm (sau đây viết tắt là trung tâm dịch vụ việc làm).  \\n4. Cơ quan, tổ chức, cá nhân có liên quan đến bảo hiểm thất nghiệp theo quy định của Luật Việc làm.  \\n',\n",
       " 'content': ' Điều 2. Đối tượng áp dụng  \\n1. Người lao động, người sử dụng lao động thuộc đối tượng bắt buộc tham gia bảo hiểm thất nghiệp theo quy định tại Điều 43 Luật Việc làm.  \\n2. Người lao động là người quản lý doanh nghiệp, quản lý hợp tác xã hưởng tiền lương và có tham gia bảo hiểm xã hội bắt buộc theo quy định của pháp luật về bảo hiểm xã hội.  \\n3. Tổ chức bảo hiểm xã hội, Sở Lao động - Thương bình và Xã hội tỉnh, thành phố trực thuộc Trung ương (sau đây viết tắt là Sở Lao động - Thương bình và Xã hội), trung tâm dịch vụ việc làm do cơ quan quản lý nhà nước về việc làm thành lập được giao các nhiệm vụ theo quy định tại Khoản 2 Điều 38 Luật Việc làm (sau đây viết tắt là trung tâm dịch vụ việc làm).  \\n4. Cơ quan, tổ chức, cá nhân có liên quan đến bảo hiểm thất nghiệp theo quy định của Luật Việc làm.  \\n',\n",
       " 'summary': 'Đoạn văn bản này chứa thông tin về các đối tượng áp dụng của bảo hiểm thất nghiệp theo quy định của Luật Việc làm.',\n",
       " 'src': 'parsed_file/11. Nghị định 28_2015 hướng dẫn luật Việc làm.pdf',\n",
       " 'chapter': 'Chương I',\n",
       " 'page': 1,\n",
       " 'reference': 'NGHỊ ĐỊNH Quy định chi tiết thi hành một số điều của Luật Việc làm về bảo hiểm thất nghiệp'}"
      ]
     },
     "execution_count": 12,
     "metadata": {},
     "output_type": "execute_result"
    }
   ],
   "source": [
    "merged_array[1]"
   ]
  },
  {
   "cell_type": "code",
   "execution_count": 1,
   "metadata": {},
   "outputs": [],
   "source": [
    "import os\n",
    "import json\n",
    "import re\n",
    "\n",
    "def merge_json(folder_path):\n",
    "    merged_data = []\n",
    "\n",
    "    for filename in os.listdir(folder_path):\n",
    "        if filename.endswith('.json'):\n",
    "            file_path = os.path.join(folder_path, filename)\n",
    "            new_data = []\n",
    "            with open(file_path, 'r', encoding=\"utf-8\") as json_file:\n",
    "                data = json.load(json_file)\n",
    "                for chunk in data:\n",
    "                    chunk[\"raw_text\"] = re.sub(r'\\* Trang \\d+', '', chunk[\"raw_text\"])\n",
    "                    chunk[\"raw_text\"] = re.sub(r'\\*Begin table\\*', ' ', chunk[\"raw_text\"])\n",
    "                    chunk[\"raw_text\"] = re.sub(r'\\*End table\\*', ' ', chunk[\"raw_text\"])\n",
    "                    chunk[\"raw_text\"] = re.sub(r'\\n+', '\\n', chunk[\"raw_text\"])\n",
    "                    markdown_special_chars = r'[\\\\#\\*]'\n",
    "                    chunk[\"content\"] = re.sub(markdown_special_chars, '', chunk[\"raw_text\"])\n",
    "                    new_data.append(chunk)\n",
    "            with open(file_path, 'w', encoding=\"utf-8\") as json_file:\n",
    "                json.dump(new_data, json_file, ensure_ascii=False, indent=4)\n",
    "\n",
    "    return merged_data\n",
    "\n",
    "folder_path = \"parsed_file\"\n",
    "merged_array = merge_json(folder_path=folder_path)\n"
   ]
  },
  {
   "cell_type": "code",
   "execution_count": 15,
   "metadata": {},
   "outputs": [
    {
     "data": {
      "text/plain": [
       "508"
      ]
     },
     "execution_count": 15,
     "metadata": {},
     "output_type": "execute_result"
    }
   ],
   "source": [
    "len(merged_array)"
   ]
  },
  {
   "cell_type": "code",
   "execution_count": 19,
   "metadata": {},
   "outputs": [
    {
     "data": {
      "text/plain": [
       "{'raw_text': '### Điều 3. Điều kiện được hỗ trợ\\nNgười sử dụng lao động được hỗ trợ kinh phí đào tạo, bồi dưỡng, nâng cao trình độ kỹ năng nghề để duy trì việc làm cho người lao động quy định tại Khoản 1 Điều 47 Luật Việc làm khi có đủ các điều kiện sau:\\n1. Đồng đú bảo hiểm thất nghiệp theo quy định tại Khoản 2 Điều 44 Luật Việc làm liên tục từ đủ 12 tháng trở lên tính đến tháng liền trước của tháng đề nghị hỗ trợ kinh phí đào tạo, bồi dưỡng, nâng cao trình độ kỹ năng nghề để duy trì việc làm cho người lao động nếu người sử dụng lao động đã đóng bảo hiểm thất nghiệp của tháng đó.\\n2. Gặp khó khăn do suy giảm kinh tế hoặc vì lý do bất khả kháng thuộc phải đãi đôì cơ cấu hoặc công nghệ sản xuất, kinh doanh và dẫn đến nguy cơ phải cắt giảm số lao động hiện có từ 30% hoặc từ 50 lao động trở xuống với 100 lao động trở lên đối với người sử dụng lao động có sử dụng trên 300 lao động, không kể lao động giao kết hợp đồng lao động vơi thời hạn dưới 03 tháng.\\nNhững trường hợp được coi là bất khả kháng nêu trên, bao gồm: Hỏa hoạn, lũ lụt, động đất, sóng thần, dịch hoạ, dịch bệnh làm thiệt hại một phần hoặc toàn bộ cơ sở vật chất, thiết bị, máy móc, nhà xưởng có xác nhận của Chủ tịch Ủy ban nhân dân quận, huyện, thị xã, thành phố trực thuộc tỉnh nơi người sử dụng lao động bị thiệt hại.\\n3. Không được kinh phí để tổ chức đào tạo, bồi dưỡng, nâng cao trình độ kỹ năng nghề cho người lao động được xác định thông qua báo cáo sản xuất, kinh doanh của năm trước thời điểm đề nghị hỗ trợ mà bị lỗ có xác nhận của cơ quan thuế.\\n4. Có phương án đào tạo, bồi dưỡng, nâng cao trình độ kỹ năng nghề và duy trì việc làm được cơ quan nhà nước có thẩm quyền phê duyệt.',\n",
       " 'content': ' Điều 3. Điều kiện được hỗ trợ\\nNgười sử dụng lao động được hỗ trợ kinh phí đào tạo, bồi dưỡng, nâng cao trình độ kỹ năng nghề để duy trì việc làm cho người lao động quy định tại Khoản 1 Điều 47 Luật Việc làm khi có đủ các điều kiện sau:\\n1. Đồng đú bảo hiểm thất nghiệp theo quy định tại Khoản 2 Điều 44 Luật Việc làm liên tục từ đủ 12 tháng trở lên tính đến tháng liền trước của tháng đề nghị hỗ trợ kinh phí đào tạo, bồi dưỡng, nâng cao trình độ kỹ năng nghề để duy trì việc làm cho người lao động nếu người sử dụng lao động đã đóng bảo hiểm thất nghiệp của tháng đó.\\n2. Gặp khó khăn do suy giảm kinh tế hoặc vì lý do bất khả kháng thuộc phải đãi đôì cơ cấu hoặc công nghệ sản xuất, kinh doanh và dẫn đến nguy cơ phải cắt giảm số lao động hiện có từ 30% hoặc từ 50 lao động trở xuống với 100 lao động trở lên đối với người sử dụng lao động có sử dụng trên 300 lao động, không kể lao động giao kết hợp đồng lao động vơi thời hạn dưới 03 tháng.\\nNhững trường hợp được coi là bất khả kháng nêu trên, bao gồm: Hỏa hoạn, lũ lụt, động đất, sóng thần, dịch hoạ, dịch bệnh làm thiệt hại một phần hoặc toàn bộ cơ sở vật chất, thiết bị, máy móc, nhà xưởng có xác nhận của Chủ tịch Ủy ban nhân dân quận, huyện, thị xã, thành phố trực thuộc tỉnh nơi người sử dụng lao động bị thiệt hại.\\n3. Không được kinh phí để tổ chức đào tạo, bồi dưỡng, nâng cao trình độ kỹ năng nghề cho người lao động được xác định thông qua báo cáo sản xuất, kinh doanh của năm trước thời điểm đề nghị hỗ trợ mà bị lỗ có xác nhận của cơ quan thuế.\\n4. Có phương án đào tạo, bồi dưỡng, nâng cao trình độ kỹ năng nghề và duy trì việc làm được cơ quan nhà nước có thẩm quyền phê duyệt.',\n",
       " 'summary': 'Đoạn văn bản này chứa thông tin về các điều kiện để người sử dụng lao động được hỗ trợ kinh phí đào tạo và bồi dưỡng kỹ năng nghề cho người lao động.',\n",
       " 'src': 'parsed_file/11. Nghị định 28_2015 hướng dẫn luật Việc làm.pdf',\n",
       " 'chapter': 'Chương II',\n",
       " 'page': 2,\n",
       " 'reference': 'NGHỊ ĐỊNH Quy định chi tiết thi hành một số điều của Luật Việc làm về bảo hiểm thất nghiệp'}"
      ]
     },
     "execution_count": 19,
     "metadata": {},
     "output_type": "execute_result"
    }
   ],
   "source": [
    "merged_array[2]"
   ]
  },
  {
   "cell_type": "code",
   "execution_count": 13,
   "metadata": {},
   "outputs": [],
   "source": [
    "import copy\n",
    "from llama_index.core.schema import TextNode\n",
    "\n",
    "all_nodes = []\n",
    "excluded_embed_metadata_keys=[\"raw_text\", \"summary\", \"src\", \"chapter\", \"page\", \"reference\"]\n",
    "excluded_llm_metadata_keys=[\"raw_text\", \"summary\", \"src\", \"chapter\", \"page\", \"reference\"]\n",
    "\n",
    "for chunk in merged_array:\n",
    "    chunk_text = chunk[\"content\"]\n",
    "    metadata = copy.deepcopy(chunk)\n",
    "    metadata.pop(\"content\")\n",
    "    reference=chunk.get(\"reference\",\"\")\n",
    "    if reference:\n",
    "      reference=f\"Nguồn: {reference}\\n\\n\"\n",
    "    else:\n",
    "       reference=\"\"\n",
    "    chapter=chunk.get(\"chapter\",\"\")\n",
    "    if chapter and chapter!='none':\n",
    "      chapter=f\"Chương: {chapter}\\n\\n\"\n",
    "    else:\n",
    "       chapter=\"\"\n",
    "    node = TextNode(\n",
    "        text = reference+\" \"+chapter+\" \"+chunk_text,\n",
    "        extra_info= metadata,\n",
    "        excluded_embed_metadata_keys=excluded_embed_metadata_keys,\n",
    "        excluded_llm_metadata_keys=excluded_llm_metadata_keys,\n",
    "    )\n",
    "    all_nodes.append(node)"
   ]
  },
  {
   "cell_type": "code",
   "execution_count": 14,
   "metadata": {},
   "outputs": [
    {
     "data": {
      "application/vnd.jupyter.widget-view+json": {
       "model_id": "05a5e9e020b54b7dacce414262c5bb78",
       "version_major": 2,
       "version_minor": 0
      },
      "text/plain": [
       "Generating embeddings:   0%|          | 0/100 [00:00<?, ?it/s]"
      ]
     },
     "metadata": {},
     "output_type": "display_data"
    },
    {
     "data": {
      "application/vnd.jupyter.widget-view+json": {
       "model_id": "38b4f7b2e89b4dfbaf34ae66091662fb",
       "version_major": 2,
       "version_minor": 0
      },
      "text/plain": [
       "Generating embeddings:   0%|          | 0/100 [00:00<?, ?it/s]"
      ]
     },
     "metadata": {},
     "output_type": "display_data"
    },
    {
     "data": {
      "application/vnd.jupyter.widget-view+json": {
       "model_id": "cefddada14de4d5b835624ab9a418cc6",
       "version_major": 2,
       "version_minor": 0
      },
      "text/plain": [
       "Generating embeddings:   0%|          | 0/100 [00:00<?, ?it/s]"
      ]
     },
     "metadata": {},
     "output_type": "display_data"
    },
    {
     "data": {
      "application/vnd.jupyter.widget-view+json": {
       "model_id": "b0fdcb5be13b4d638afad7ff774dcef7",
       "version_major": 2,
       "version_minor": 0
      },
      "text/plain": [
       "Generating embeddings:   0%|          | 0/100 [00:00<?, ?it/s]"
      ]
     },
     "metadata": {},
     "output_type": "display_data"
    },
    {
     "data": {
      "application/vnd.jupyter.widget-view+json": {
       "model_id": "421d915ad68f408294afa010c5d06797",
       "version_major": 2,
       "version_minor": 0
      },
      "text/plain": [
       "Generating embeddings:   0%|          | 0/100 [00:00<?, ?it/s]"
      ]
     },
     "metadata": {},
     "output_type": "display_data"
    },
    {
     "data": {
      "application/vnd.jupyter.widget-view+json": {
       "model_id": "ecd53c434f8a4bc2a97f0798aab3efe8",
       "version_major": 2,
       "version_minor": 0
      },
      "text/plain": [
       "Generating embeddings:   0%|          | 0/8 [00:00<?, ?it/s]"
      ]
     },
     "metadata": {},
     "output_type": "display_data"
    }
   ],
   "source": [
    "index = VectorStoreIndex(all_nodes,\n",
    "    storage_context=storage_context,\n",
    "    embed_model=embed_model,\n",
    "    insert_batch_size=100,\n",
    "    show_progress=True)"
   ]
  },
  {
   "cell_type": "code",
   "execution_count": null,
   "metadata": {},
   "outputs": [],
   "source": []
  }
 ],
 "metadata": {
  "kernelspec": {
   "display_name": "phucnh",
   "language": "python",
   "name": "python3"
  },
  "language_info": {
   "codemirror_mode": {
    "name": "ipython",
    "version": 3
   },
   "file_extension": ".py",
   "mimetype": "text/x-python",
   "name": "python",
   "nbconvert_exporter": "python",
   "pygments_lexer": "ipython3",
   "version": "3.10.14"
  }
 },
 "nbformat": 4,
 "nbformat_minor": 2
}
